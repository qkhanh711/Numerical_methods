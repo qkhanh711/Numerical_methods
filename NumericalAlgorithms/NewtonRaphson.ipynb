{
 "cells": [
  {
   "cell_type": "markdown",
   "metadata": {},
   "source": [
    "# Recurrence formula:\n",
    "\n",
    "$$ x_{n+1} = x{n} - \\frac{f(x_{n})}{f'{x_{n}}} $$\n",
    "- Taylor series expansion at x = a:\n",
    "- Since f{c} = 0, then\n",
    "- Since x_{n+1} = x{n} - \\frac{f(x_{n})}{f'{x_{n}}}, then\n",
    "\n",
    "\n",
    "## Advantages\n",
    "- Converges quadrarically\n",
    "- Work also for multiple root\n",
    "## Disadvantages\n",
    "- Derivatives are required\n",
    "- Depend in initial solution\n",
    "- No guarantee of convergence\n"
   ]
  },
  {
   "cell_type": "code",
   "execution_count": 3,
   "metadata": {},
   "outputs": [],
   "source": [
    "# tim vi du ma thuat toan nay ko hoi tu \n"
   ]
  }
 ],
 "metadata": {
  "kernelspec": {
   "display_name": "base",
   "language": "python",
   "name": "python3"
  },
  "language_info": {
   "codemirror_mode": {
    "name": "ipython",
    "version": 3
   },
   "file_extension": ".py",
   "mimetype": "text/x-python",
   "name": "python",
   "nbconvert_exporter": "python",
   "pygments_lexer": "ipython3",
   "version": "3.11.5"
  }
 },
 "nbformat": 4,
 "nbformat_minor": 2
}
