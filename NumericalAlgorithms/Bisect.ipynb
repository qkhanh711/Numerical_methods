{
 "cells": [
  {
   "cell_type": "markdown",
   "metadata": {},
   "source": [
    "# Convergent sequence\n",
    "\n",
    "<h3> Order of convergence and Rate convergence </h3>\n",
    "\n",
    "    A sequence {Xn} that converges to x* is said to have order of convergence q >= 1 and rate of convergence muy > 0 (being a constant) if:\n",
    "\n",
    "$$\\lim_{n \\to \\infty} \\frac{|X_{n+1} - x^*|}{|X_n - X^*|^q} = \\mu$$\n",
    "\n",
    "q = 1 0< muy <1 : linear convergence\n",
    "\n",
    "muy = 1 : sublinearly convergence\n",
    "\n",
    "muy = 0 : superlinearly convergence\n",
    "\n",
    "muy = 2 : quadratic convergence\n",
    "\n"
   ]
  },
  {
   "cell_type": "markdown",
   "metadata": {},
   "source": [
    "## Examples"
   ]
  },
  {
   "cell_type": "markdown",
   "metadata": {},
   "source": [
    "x0 = 1, xn+1= 1/2 ln(root(xn + 1))"
   ]
  },
  {
   "cell_type": "code",
   "execution_count": null,
   "metadata": {},
   "outputs": [],
   "source": [
    "2* (2 - 1) == (x2 - 1)"
   ]
  },
  {
   "cell_type": "markdown",
   "metadata": {},
   "source": [
    "## Advantages\n",
    "- Guaranteed convergence\n",
    "- Easy to implement\n",
    "- No need to use derivatives\n",
    "\n",
    "## Disadvantages\n",
    "\n",
    "- "
   ]
  },
  {
   "cell_type": "code",
   "execution_count": 3,
   "metadata": {},
   "outputs": [
    {
     "data": {
      "text/plain": [
       "1"
      ]
     },
     "execution_count": 3,
     "metadata": {},
     "output_type": "execute_result"
    }
   ],
   "source": []
  },
  {
   "cell_type": "markdown",
   "metadata": {},
   "source": [
    "## Implement"
   ]
  },
  {
   "cell_type": "code",
   "execution_count": null,
   "metadata": {},
   "outputs": [],
   "source": [
    "def func_x(x):\n",
    "    return x**2 + 2*x + 1\n",
    "\n",
    "def bisection(a, b, func_x):\n",
    "    c = (a + b) / 2\n",
    "    if func_x(c) == 0:\n",
    "        return c\n",
    "    elif func_x(a) * func_x(b) > 0:\n",
    "        return bisection(a, c, func_x)\n",
    "    elif func_x(a) * func_x(b) < 0:\n",
    "        return bisection(c, b, func_x)\n",
    "    else:\n",
    "        return \"No root in (a, b)\"\n",
    "\n",
    "bisection(-2, 2, func_x)"
   ]
  }
 ],
 "metadata": {
  "kernelspec": {
   "display_name": "base",
   "language": "python",
   "name": "python3"
  },
  "language_info": {
   "codemirror_mode": {
    "name": "ipython",
    "version": 3
   },
   "file_extension": ".py",
   "mimetype": "text/x-python",
   "name": "python",
   "nbconvert_exporter": "python",
   "pygments_lexer": "ipython3",
   "version": "3.11.5"
  }
 },
 "nbformat": 4,
 "nbformat_minor": 2
}
