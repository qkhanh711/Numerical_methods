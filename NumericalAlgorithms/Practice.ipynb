{
 "cells": [
  {
   "cell_type": "markdown",
   "metadata": {},
   "source": [
    "# Week 2"
   ]
  },
  {
   "cell_type": "code",
   "execution_count": 1,
   "metadata": {},
   "outputs": [],
   "source": [
    "from Algs_scratch import *"
   ]
  },
  {
   "cell_type": "code",
   "execution_count": 2,
   "metadata": {},
   "outputs": [],
   "source": [
    "def func_x(x):\n",
    "    return - x**5 - 2*x + 1"
   ]
  },
  {
   "cell_type": "code",
   "execution_count": 3,
   "metadata": {},
   "outputs": [
    {
     "name": "stdout",
     "output_type": "stream",
     "text": [
      "CPU times: user 6 µs, sys: 1e+03 ns, total: 7 µs\n",
      "Wall time: 11.4 µs\n"
     ]
    }
   ],
   "source": [
    "%%time\n",
    "bisection(-2, 2, func_x)\n"
   ]
  },
  {
   "cell_type": "code",
   "execution_count": 4,
   "metadata": {},
   "outputs": [
    {
     "name": "stdout",
     "output_type": "stream",
     "text": [
      "CPU times: user 34 µs, sys: 6 µs, total: 40 µs\n",
      "Wall time: 45.8 µs\n"
     ]
    },
    {
     "data": {
      "text/plain": [
       "(0.486389035934543, 6)"
      ]
     },
     "execution_count": 4,
     "metadata": {},
     "output_type": "execute_result"
    }
   ],
   "source": [
    "%%time\n",
    "secant_method(func_x, 0, 0.2)"
   ]
  },
  {
   "cell_type": "code",
   "execution_count": 5,
   "metadata": {},
   "outputs": [
    {
     "name": "stdout",
     "output_type": "stream",
     "text": [
      "CPU times: user 21 µs, sys: 4 µs, total: 25 µs\n",
      "Wall time: 30 µs\n"
     ]
    },
    {
     "data": {
      "text/plain": [
       "(0.4863890252475381, 8)"
      ]
     },
     "execution_count": 5,
     "metadata": {},
     "output_type": "execute_result"
    }
   ],
   "source": [
    "%%time\n",
    "Newton_Raphson(func_x, 0.2)"
   ]
  },
  {
   "cell_type": "markdown",
   "metadata": {},
   "source": [
    "# Week 3"
   ]
  },
  {
   "cell_type": "markdown",
   "metadata": {},
   "source": [
    "## bruteforce or scipy.optimize"
   ]
  },
  {
   "cell_type": "code",
   "execution_count": 6,
   "metadata": {},
   "outputs": [],
   "source": [
    "import numpy as np\n",
    "import scipy.optimize as opt\n",
    "from scipy.optimize import minimize\n"
   ]
  },
  {
   "cell_type": "code",
   "execution_count": 7,
   "metadata": {},
   "outputs": [],
   "source": [
    "def f(x):\n",
    "    return x**6 - x**5 + x**4 - 7*x**3 + x**2 + x -5"
   ]
  },
  {
   "cell_type": "code",
   "execution_count": 8,
   "metadata": {},
   "outputs": [
    {
     "data": {
      "image/png": "[encoded data removed]",
      "text/plain": [
       "<Figure size 640x480 with 1 Axes>"
      ]
     },
     "metadata": {},
     "output_type": "display_data"
    }
   ],
   "source": [
    "def matplotlib_display():\n",
    "    import matplotlib.pyplot as plt \n",
    "    x = np.linspace(-2, 2, 100)\n",
    "    plt.plot(x, f(x))\n",
    "    plt.show()\n",
    "matplotlib_display()"
   ]
  },
  {
   "cell_type": "code",
   "execution_count": 9,
   "metadata": {},
   "outputs": [
    {
     "name": "stdout",
     "output_type": "stream",
     "text": [
      "Optimization terminated successfully.\n",
      "         Current function value: -5.105749\n",
      "         Iterations: 5\n",
      "         Function evaluations: 14\n",
      "         Gradient evaluations: 7\n",
      "  message: Optimization terminated successfully.\n",
      "  success: True\n",
      "   status: 0\n",
      "      fun: -5.105749483553248\n",
      "        x: [-1.729e-01]\n",
      "      nit: 5\n",
      "      jac: [-5.960e-08]\n",
      " hess_inv: [[ 1.024e-01]]\n",
      "     nfev: 14\n",
      "     njev: 7\n"
     ]
    }
   ],
   "source": [
    "minfx = minimize(f, 0, method='BFGS', options={'disp': True})\n",
    "minimizescalar = opt.minimize_scalar(f, method='brent')\n",
    "print(minfx)\n"
   ]
  },
  {
   "cell_type": "code",
   "execution_count": 10,
   "metadata": {},
   "outputs": [
    {
     "name": "stdout",
     "output_type": "stream",
     "text": [
      "\n",
      "    Newton-Raphson: \n",
      "          converged: True\n",
      "           flag: converged\n",
      " function_calls: 14\n",
      "     iterations: 7\n",
      "           root: 1.6351292084233693\n",
      "    \n",
      "CPU times: user 4.51 ms, sys: 90 µs, total: 4.6 ms\n",
      "Wall time: 4 ms\n"
     ]
    }
   ],
   "source": [
    "%%time\n",
    "def df(x):\n",
    "    return 6*x**5 - 5*x**4 + 4*x**3 - 21*x**2 + 2*x + 1\n",
    "    \n",
    "minfx = opt.root_scalar(df, method='newton', x0=1.4)\n",
    "print(f\"\"\"\n",
    "    Newton-Raphson: \n",
    "    {minfx}\n",
    "    \"\"\")"
   ]
  },
  {
   "cell_type": "code",
   "execution_count": 11,
   "metadata": {},
   "outputs": [],
   "source": [
    "def get_derivative_f(x, func, tol=1e-6):\n",
    "    return (func(x + tol) - func(x-tol)) / (2*tol)"
   ]
  },
  {
   "cell_type": "code",
   "execution_count": 12,
   "metadata": {},
   "outputs": [
    {
     "name": "stdout",
     "output_type": "stream",
     "text": [
      "CPU times: user 2.96 ms, sys: 0 ns, total: 2.96 ms\n",
      "Wall time: 3.11 ms\n"
     ]
    },
    {
     "data": {
      "text/plain": [
       "{'min': {'x': 1.631631631631631, 'y': -16.720848456833032},\n",
       " 'max': {'x': -10.0, 'y': 1117085.0}}"
      ]
     },
     "execution_count": 12,
     "metadata": {},
     "output_type": "execute_result"
    }
   ],
   "source": [
    "%%time\n",
    "def BruteForce(func, range, steps, tol=1e-6):\n",
    "    x = np.linspace(range[0], range[1], steps)\n",
    "    y = func(x)\n",
    "    min_index = np.argmin(y)\n",
    "    max_index = np.argmax(y)\n",
    "    x_min = x[min_index]\n",
    "    x_max = x[max_index]\n",
    "    return {\n",
    "        'min': {\n",
    "            'x': x_min,\n",
    "            'y': y[min_index]\n",
    "        },\n",
    "        'max': {\n",
    "            'x': x_max,\n",
    "            'y': y[max_index]\n",
    "        }\n",
    "    }\n",
    "\n",
    "BruteForce(f, [-10,10], 1000)"
   ]
  },
  {
   "cell_type": "markdown",
   "metadata": {},
   "source": [
    "## x = [x1,x2]\n",
    "\n",
    "$$\n",
    "x \\in \\left[ 0, 1 \\right]^2\n",
    "$$"
   ]
  },
  {
   "cell_type": "code",
   "execution_count": 13,
   "metadata": {},
   "outputs": [
    {
     "name": "stdout",
     "output_type": "stream",
     "text": [
      "[[0.42284959 0.05102574]\n",
      " [0.77477864 0.74767212]]\n",
      "[[0.20417674]\n",
      " [0.93377741]]\n",
      "[[0.10143165]]\n"
     ]
    }
   ],
   "source": [
    "A = np.random.rand(2,2)\n",
    "C = np.random.rand(2,1)\n",
    "D = np.random.rand(1,1)\n",
    "print(A)\n",
    "print(C)\n",
    "print(D)\n",
    "X = np.random.rand(2,1)"
   ]
  },
  {
   "cell_type": "code",
   "execution_count": 14,
   "metadata": {},
   "outputs": [
    {
     "data": {
      "text/plain": [
       "(1, 1)"
      ]
     },
     "execution_count": 14,
     "metadata": {},
     "output_type": "execute_result"
    }
   ],
   "source": [
    "def f(x):\n",
    "    return x.T @ A @ x + C.T @ x + D\n",
    "\n",
    "def test():\n",
    "    x=np.random.rand(2,1)\n",
    "    return x, f(x)\n",
    "\n",
    "def df(x, tol=1e-6):\n",
    "    return ((f(x + tol) - f(x-tol)) / (2*tol))\n",
    "df(X).shape"
   ]
  },
  {
   "cell_type": "code",
   "execution_count": 15,
   "metadata": {},
   "outputs": [
    {
     "name": "stderr",
     "output_type": "stream",
     "text": [
      "/tmp/ipykernel_18568/432769170.py:2: DeprecationWarning: scipy.misc.derivative is deprecated in SciPy v1.10.0; and will be completely removed in SciPy v1.12.0. You may consider using findiff: https://github.com/maroba/findiff or numdifftools: https://github.com/pbrod/numdifftools\n",
      "  misc.derivative(f, X)\n"
     ]
    },
    {
     "data": {
      "text/plain": [
       "array([[4.1926127]])"
      ]
     },
     "execution_count": 15,
     "metadata": {},
     "output_type": "execute_result"
    }
   ],
   "source": [
    "import scipy.misc as misc\n",
    "misc.derivative(f, X)"
   ]
  },
  {
   "cell_type": "code",
   "execution_count": 16,
   "metadata": {},
   "outputs": [
    {
     "name": "stdout",
     "output_type": "stream",
     "text": [
      "Optimization terminated successfully.\n",
      "         Current function value: -0.314634\n",
      "         Iterations: 7\n",
      "         Function evaluations: 24\n",
      "         Gradient evaluations: 8\n"
     ]
    }
   ],
   "source": [
    "minfx = opt.minimize(f, X.reshape(-1), method='BFGS', options={'disp': True})"
   ]
  },
  {
   "cell_type": "markdown",
   "metadata": {},
   "source": [
    "# Week4"
   ]
  },
  {
   "cell_type": "markdown",
   "metadata": {},
   "source": [
    "## find f'"
   ]
  },
  {
   "cell_type": "code",
   "execution_count": 17,
   "metadata": {},
   "outputs": [
    {
     "data": {
      "text/plain": [
       "2"
      ]
     },
     "execution_count": 17,
     "metadata": {},
     "output_type": "execute_result"
    }
   ],
   "source": [
    "n = np.random.randint(1, 10)\n",
    "n\n"
   ]
  },
  {
   "cell_type": "code",
   "execution_count": 18,
   "metadata": {},
   "outputs": [
    {
     "data": {
      "text/plain": [
       "array([0.47780145, 0.27068977])"
      ]
     },
     "execution_count": 18,
     "metadata": {},
     "output_type": "execute_result"
    }
   ],
   "source": [
    "params = np.random.rand(n)\n",
    "params"
   ]
  },
  {
   "cell_type": "code",
   "execution_count": 19,
   "metadata": {},
   "outputs": [
    {
     "data": {
      "text/plain": [
       "array([[1, 3],\n",
       "       [9, 7]])"
      ]
     },
     "execution_count": 19,
     "metadata": {},
     "output_type": "execute_result"
    }
   ],
   "source": [
    "coordinates = []\n",
    "for i in range(n):\n",
    "    x = np.random.randint(0,10) \n",
    "    y = np.random.randint(0,10)\n",
    "    coordinates.append((x,y))\n",
    "coordinates = np.array(coordinates)\n",
    "coordinates"
   ]
  },
  {
   "cell_type": "code",
   "execution_count": 20,
   "metadata": {},
   "outputs": [
    {
     "name": "stdout",
     "output_type": "stream",
     "text": [
      "[2.5 0.5]\n"
     ]
    },
    {
     "name": "stderr",
     "output_type": "stream",
     "text": [
      "/home/nyanmaruk/anaconda3/lib/python3.11/site-packages/scipy/optimize/_minpack_py.py:1010: OptimizeWarning: Covariance of the parameters could not be estimated\n",
      "  warnings.warn('Covariance of the parameters could not be estimated',\n"
     ]
    },
    {
     "data": {
      "image/png": "[encoded data removed]",
      "text/plain": [
       "<Figure size 640x480 with 1 Axes>"
      ]
     },
     "metadata": {},
     "output_type": "display_data"
    }
   ],
   "source": [
    "from scipy.optimize import curve_fit\n",
    "import matplotlib.pyplot as plt\n",
    "\n",
    "x = coordinates[:, 0]\n",
    "y = coordinates[:, 1]\n",
    "\n",
    "def target_function(x, *params):\n",
    "    # result_f = 0\n",
    "    # for i in range(len(params)):\n",
    "    #     result_f += params[i] * x**i\n",
    "    return sum([params[i] * x**i for i in range(len(params))])\n",
    "\n",
    "fit_params, pcov = curve_fit(target_function, x, y, p0=params.tolist())\n",
    "print(fit_params)\n",
    "\n",
    "x_new = np.linspace(min(x), max(x), 100)\n",
    "\n",
    "y_new = target_function(x_new, *fit_params)    # Create an coordinate\n",
    "\n",
    "\n",
    "plt.scatter(x, y)\n",
    "plt.plot(x_new, y_new, label='f(x)', color='red')\n",
    "plt.legend()\n",
    "plt.xlabel('X')\n",
    "plt.ylabel('Y')\n",
    "plt.show()"
   ]
  },
  {
   "cell_type": "code",
   "execution_count": 21,
   "metadata": {},
   "outputs": [],
   "source": [
    "def df(x, tol = 1e-6):\n",
    "    return ((target_function((x + tol), *fit_params) - target_function((x-tol), *fit_params)) / (2*tol))"
   ]
  },
  {
   "cell_type": "code",
   "execution_count": 22,
   "metadata": {},
   "outputs": [
    {
     "data": {
      "text/plain": [
       "0.500000000069889"
      ]
     },
     "execution_count": 22,
     "metadata": {},
     "output_type": "execute_result"
    }
   ],
   "source": [
    "df(1)"
   ]
  },
  {
   "cell_type": "markdown",
   "metadata": {},
   "source": [
    "## Homework"
   ]
  },
  {
   "cell_type": "markdown",
   "metadata": {},
   "source": [
    "ktra co phai toi uu loi khong (Check is convex)\n",
    "sd phuong phap roi rac hoa de giai\n",
    "$$\n",
    "    f_i(x_i) = x_i.\\log_2{(1+\\frac{a_i}{x_i})} + \\frac{1}{r_i}.\\log_2{(1 + b_i.x_i)}\n",
    "$$\n",
    "\n",
    "hai ham thanh phan deu phu thuoc vao 1 bien\n",
    "\n",
    "=> ap dung tong hai ham loi la ham loi\n",
    "\n",
    "=> chung minh cac ham thanh phan la loi\n",
    "\n",
    "ddf>0 la ham loi"
   ]
  },
  {
   "cell_type": "code",
   "execution_count": 23,
   "metadata": {},
   "outputs": [
    {
     "name": "stdout",
     "output_type": "stream",
     "text": [
      "Hessian Matrix:\n",
      "[[166.53345369]]\n",
      "         Current function value: nan\n",
      "         Iterations: 2\n",
      "         Function evaluations: 246\n",
      "         Gradient evaluations: 123\n"
     ]
    },
    {
     "name": "stderr",
     "output_type": "stream",
     "text": [
      "/tmp/ipykernel_18568/1492801064.py:5: RuntimeWarning: invalid value encountered in log2\n",
      "  return x*np.log2(a/x) + (1/r)*np.log2(1 + b*x)\n",
      "/tmp/ipykernel_18568/1492801064.py:5: RuntimeWarning: invalid value encountered in log2\n",
      "  return x*np.log2(a/x) + (1/r)*np.log2(1 + b*x)\n",
      "/home/nyanmaruk/anaconda3/lib/python3.11/site-packages/scipy/optimize/_minimize.py:705: OptimizeWarning: Desired error not necessarily achieved due to precision loss.\n",
      "  res = _minimize_bfgs(fun, x0, args, jac, callback, **options)\n"
     ]
    },
    {
     "data": {
      "text/plain": [
       "  message: Desired error not necessarily achieved due to precision loss.\n",
       "  success: False\n",
       "   status: 2\n",
       "      fun: nan\n",
       "        x: [-1.860e+05]\n",
       "      nit: 2\n",
       "      jac: [       nan]\n",
       " hess_inv: [[-1.663e+01]]\n",
       "     nfev: 246\n",
       "     njev: 123"
      ]
     },
     "execution_count": 23,
     "metadata": {},
     "output_type": "execute_result"
    }
   ],
   "source": [
    "import numpy as np\n",
    "from scipy.optimize import minimize\n",
    "\n",
    "def f(x, a, r, b):\n",
    "    return x*np.log2(a/x) + (1/r)*np.log2(1 + b*x)\n",
    "\n",
    "def df(x, a, r, b, tol=1e-6):\n",
    "    return ((f(x + tol, a, r, b) - f(x-tol, a, r, b)) / (2*tol))\n",
    "\n",
    "def df2(x, a, r, b, tol=1e-6):\n",
    "    return ((df(x + tol, a, r, b) - df(x-tol, a, r, b)) / (2*tol))\n",
    "\n",
    "a = np.random.rand()\n",
    "r = np.random.rand()\n",
    "b = np.random.rand()\n",
    "\n",
    "x0 = np.random.rand()\n",
    "x0\n",
    "def hessian_matrix(x, a, r, b, tol=1e-6):\n",
    "    hessian = np.zeros((1, 1))\n",
    "    f_x = df(x, a, r, b, tol)\n",
    "    f_x_plus_h = df(x + tol, a, r, b, tol)\n",
    "    f_x_minus_h = df(x - tol, a, r, b, tol)\n",
    "    second_derivative = (f_x_plus_h - 2 * f_x + f_x_minus_h) / (tol ** 2)\n",
    "    hessian[0, 0] = second_derivative\n",
    "    return hessian\n",
    "\n",
    "hessian_matrix_result = hessian_matrix(x0, a, r, b)\n",
    "print(\"Hessian Matrix:\")\n",
    "print(hessian_matrix_result)\n",
    "minfx = minimize(f, x0, args=(a, r, b), method='BFGS', options={'disp': True})\n",
    "minfx"
   ]
  },
  {
   "cell_type": "code",
   "execution_count": 24,
   "metadata": {},
   "outputs": [
    {
     "data": {
      "image/png": "[encoded data removed]",
      "text/plain": [
       "<Figure size 640x480 with 1 Axes>"
      ]
     },
     "metadata": {},
     "output_type": "display_data"
    }
   ],
   "source": [
    "def visualize():\n",
    "    import matplotlib.pyplot as plt\n",
    "    x = np.linspace(0.1, 10, 100)\n",
    "    plt.plot(x, f(x, a, r, b))\n",
    "    plt.plot(x, df(x, a, r, b))\n",
    "    plt.plot(x, df2(x, a, r, b))\n",
    "    plt.legend(['f(x)', 'df(x)', 'df2(x)'])\n",
    "    plt.show()\n",
    "visualize()"
   ]
  },
  {
   "cell_type": "markdown",
   "metadata": {},
   "source": [
    "## multi variables"
   ]
  },
  {
   "cell_type": "code",
   "execution_count": 25,
   "metadata": {},
   "outputs": [
    {
     "name": "stdout",
     "output_type": "stream",
     "text": [
      "9\n",
      "[0.15265241 0.11991527 0.24979016 0.60525896 0.26494272 0.30786854\n",
      " 0.72003908 0.54767238 0.94615627]\n"
     ]
    },
    {
     "name": "stderr",
     "output_type": "stream",
     "text": [
      "/home/nyanmaruk/anaconda3/lib/python3.11/site-packages/scipy/optimize/_minimize.py:576: RuntimeWarning: Method BFGS cannot handle constraints.\n",
      "  warn('Method %s cannot handle constraints.' % method,\n",
      "/tmp/ipykernel_18568/1492801064.py:5: RuntimeWarning: invalid value encountered in log2\n",
      "  return x*np.log2(a/x) + (1/r)*np.log2(1 + b*x)\n"
     ]
    },
    {
     "name": "stdout",
     "output_type": "stream",
     "text": [
      "         Current function value: nan\n",
      "         Iterations: 1\n",
      "         Function evaluations: 1120\n",
      "         Gradient evaluations: 112\n"
     ]
    },
    {
     "name": "stderr",
     "output_type": "stream",
     "text": [
      "/tmp/ipykernel_18568/1492801064.py:5: RuntimeWarning: invalid value encountered in log2\n",
      "  return x*np.log2(a/x) + (1/r)*np.log2(1 + b*x)\n",
      "/tmp/ipykernel_18568/1492801064.py:5: RuntimeWarning: invalid value encountered in log2\n",
      "  return x*np.log2(a/x) + (1/r)*np.log2(1 + b*x)\n",
      "/home/nyanmaruk/anaconda3/lib/python3.11/site-packages/scipy/optimize/_minimize.py:705: OptimizeWarning: Desired error not necessarily achieved due to precision loss.\n",
      "  res = _minimize_bfgs(fun, x0, args, jac, callback, **options)\n"
     ]
    },
    {
     "data": {
      "text/plain": [
       "  message: Desired error not necessarily achieved due to precision loss.\n",
       "  success: False\n",
       "   status: 2\n",
       "      fun: nan\n",
       "        x: [-4.238e+02 -5.417e+02 -1.789e+02  2.795e+02 -1.491e+02\n",
       "            -7.284e+01  3.724e+02  2.265e+02  5.202e+02]\n",
       "      nit: 1\n",
       "      jac: [       nan        nan        nan        nan        nan\n",
       "                   nan        nan        nan        nan]\n",
       " hess_inv: [[1 0 ... 0 0]\n",
       "            [0 1 ... 0 0]\n",
       "            ...\n",
       "            [0 0 ... 1 0]\n",
       "            [0 0 ... 0 1]]\n",
       "     nfev: 1120\n",
       "     njev: 112"
      ]
     },
     "execution_count": 25,
     "metadata": {},
     "output_type": "execute_result"
    }
   ],
   "source": [
    "n = np.random.randint(1, 10)\n",
    "print(n)\n",
    "# n =1\n",
    "x0 = np.random.rand(n)\n",
    "a = np.random.rand(n)\n",
    "r = np.random.rand(n)\n",
    "b = np.random.rand(n)\n",
    "print(x0)\n",
    "\n",
    "def d_multi_variables(x,a,r,b):\n",
    "    return np.sum([f(xi,a,r,b) for xi in x])\n",
    "\n",
    "cons = [{'type': 'ineq', 'fun': lambda: d_multi_variables < 1.0},\n",
    "        {'type': 'ineq', 'fun': lambda: d_multi_variables > 0.001}]\n",
    "\n",
    "d_multi_variables(x0,a,r,b)\n",
    "minfx = minimize(d_multi_variables, x0, args=(a, r, b), method='BFGS'\n",
    "                 , options={'disp': True}, constraints=cons)\n",
    "minfx"
   ]
  },
  {
   "cell_type": "markdown",
   "metadata": {},
   "source": [
    "# Week5"
   ]
  },
  {
   "cell_type": "markdown",
   "metadata": {},
   "source": [
    "$$\n",
    "    \\sum_{i-1}^M ||f_i{(x_i)}||_p \\\\\n",
    "\\max  a^TX \\\\\n",
    "\\text{s.t } Ax <= b\n",
    "$$"
   ]
  },
  {
   "cell_type": "code",
   "execution_count": 26,
   "metadata": {},
   "outputs": [
    {
     "name": "stdout",
     "output_type": "stream",
     "text": [
      "Dimesion:  3\n",
      "Variables [0.74150821 0.70104762 0.54073006]\n",
      "Value of objective function 4.333691193711074\n",
      "Norm p:  2\n",
      "4.333691193711074\n"
     ]
    }
   ],
   "source": [
    "import numpy as np\n",
    "def f(x):\n",
    "    return x**2 + 1\n",
    "\n",
    "n = np.random.randint(1,10)\n",
    "print(\"Dimesion: \", n)\n",
    "X = np.random.rand(n)\n",
    "print(\"Variables\",X)\n",
    "func_values = np.array([f(x) for  x in X])\n",
    "print(\"Value of objective function\",sum(func_values))\n",
    "p = np.random.randint(1,10)\n",
    "print(\"Norm p: \",p)\n",
    "\n",
    "def Obj_func(X, func):\n",
    "    return np.sum([func(x) for x in X])\n",
    "print(Obj_func(X,f))\n",
    "\n"
   ]
  },
  {
   "cell_type": "code",
   "execution_count": 27,
   "metadata": {},
   "outputs": [
    {
     "data": {
      "text/plain": [
       "2.5093290297336366"
      ]
     },
     "execution_count": 27,
     "metadata": {},
     "output_type": "execute_result"
    }
   ],
   "source": [
    "np.linalg.norm(f(X),p)"
   ]
  },
  {
   "cell_type": "markdown",
   "metadata": {},
   "source": [
    "# Week6"
   ]
  },
  {
   "cell_type": "markdown",
   "metadata": {},
   "source": [
    "## Solve\n",
    "$$\\text{min }x^TQx$$ \n",
    "$$\\text{st } Ax \\leq b$$"
   ]
  },
  {
   "cell_type": "code",
   "execution_count": 40,
   "metadata": {},
   "outputs": [
    {
     "name": "stdout",
     "output_type": "stream",
     "text": [
      "Dimesion:  3\n",
      "Variables [0.38353664 0.38086905 0.95258948]\n"
     ]
    },
    {
     "data": {
      "text/plain": [
       "1.6089282378350382"
      ]
     },
     "execution_count": 40,
     "metadata": {},
     "output_type": "execute_result"
    }
   ],
   "source": [
    "n = np.random.randint(1,10)\n",
    "print(\"Dimesion: \", n)\n",
    "\n",
    "x = np.random.rand(n)\n",
    "print(\"Variables\",x)\n",
    "\n",
    "Q = np.random.rand(n,n)\n",
    "\n",
    "def checkQ(Q):\n",
    "    if np.all(np.linalg.eigvals(Q) >= 0):\n",
    "        return True\n",
    "    else:\n",
    "        return False\n",
    "while not checkQ(Q):\n",
    "    Q = np.random.rand(n,n)\n",
    "# print(f\"Q is (semi) positive matrix {np.linalg.eigvals(Q)}\")\n",
    "def f(x):\n",
    "    return x.T @ Q @ x\n",
    "\n",
    "f(x)"
   ]
  },
  {
   "cell_type": "code",
   "execution_count": 62,
   "metadata": {},
   "outputs": [
    {
     "name": "stdout",
     "output_type": "stream",
     "text": [
      "Iteration limit reached    (Exit mode 9)\n",
      "            Current function value: nan\n",
      "            Iterations: 100\n",
      "            Function evaluations: 1205\n",
      "            Gradient evaluations: 100\n"
     ]
    },
    {
     "name": "stderr",
     "output_type": "stream",
     "text": [
      "/tmp/ipykernel_18568/92574120.py:18: RuntimeWarning: overflow encountered in matmul\n",
      "  return x.T @ Q @ x\n",
      "/tmp/ipykernel_18568/92574120.py:18: RuntimeWarning: invalid value encountered in matmul\n",
      "  return x.T @ Q @ x\n",
      "/home/nyanmaruk/anaconda3/lib/python3.11/site-packages/scipy/optimize/_numdiff.py:576: RuntimeWarning: invalid value encountered in subtract\n",
      "  df = fun(x) - f0\n"
     ]
    },
    {
     "data": {
      "text/plain": [
       " message: Iteration limit reached\n",
       " success: False\n",
       "  status: 9\n",
       "     fun: nan\n",
       "       x: [       nan        nan        nan]\n",
       "     nit: 100\n",
       "     jac: [       nan        nan        nan]\n",
       "    nfev: 1205\n",
       "    njev: 100"
      ]
     },
     "execution_count": 62,
     "metadata": {},
     "output_type": "execute_result"
    }
   ],
   "source": [
    "def solve(x, package):\n",
    "    if package == 'scipy':\n",
    "        cons = \n",
    "        minfx = minimize(f, x, method='SLSQP', options={'disp': True})\n",
    "        return minfx\n",
    "    elif package == 'cvxpy':\n",
    "        import cvxpy as cp\n",
    "        x = cp.Variable(n)\n",
    "        objective = cp.Minimize(f(x))\n",
    "        constraints = [A@x - b <= 0]\n",
    "        prob = cp.Problem(objective, constraints)\n",
    "        result = prob.solve()\n",
    "        return result\n",
    "    elif package == 'gekko':\n",
    "        from gekko import GEKKO\n",
    "        m = GEKKO()\n",
    "        x = m.Var(value=x)\n",
    "        m.Minimize(f(x))\n",
    "        m.Equations([A@x - b <= 0])\n",
    "        m.solve(disp=False)\n",
    "        return x.value\n",
    "    else:\n",
    "        raise ValueError(\"Package is not supported\")\n",
    "    \n",
    "    \n",
    "solve(x, A, b, 'scipy')\n",
    "    "
   ]
  },
  {
   "cell_type": "code",
   "execution_count": null,
   "metadata": {},
   "outputs": [],
   "source": []
  }
 ],
 "metadata": {
  "kernelspec": {
   "display_name": "base",
   "language": "python",
   "name": "python3"
  },
  "language_info": {
   "codemirror_mode": {
    "name": "ipython",
    "version": 3
   },
   "file_extension": ".py",
   "mimetype": "text/x-python",
   "name": "python",
   "nbconvert_exporter": "python",
   "pygments_lexer": "ipython3",
   "version": "3.11.5"
  }
 },
 "nbformat": 4,
 "nbformat_minor": 2
}
