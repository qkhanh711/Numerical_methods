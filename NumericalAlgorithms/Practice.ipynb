{
 "cells": [
  {
   "cell_type": "markdown",
   "metadata": {},
   "source": [
    "# Week 2"
   ]
  },
  {
   "cell_type": "code",
   "execution_count": 1,
   "metadata": {},
   "outputs": [],
   "source": [
    "from Algs_scratch import *"
   ]
  },
  {
   "cell_type": "code",
   "execution_count": 2,
   "metadata": {},
   "outputs": [],
   "source": [
    "def func_x(x):\n",
    "    return - x**5 - 2*x + 1"
   ]
  },
  {
   "cell_type": "code",
   "execution_count": 3,
   "metadata": {},
   "outputs": [
    {
     "name": "stdout",
     "output_type": "stream",
     "text": [
      "CPU times: user 3 µs, sys: 0 ns, total: 3 µs\n",
      "Wall time: 6.44 µs\n"
     ]
    }
   ],
   "source": [
    "%%time\n",
    "bisection(-2, 2, func_x)\n"
   ]
  },
  {
   "cell_type": "code",
   "execution_count": 4,
   "metadata": {},
   "outputs": [
    {
     "name": "stdout",
     "output_type": "stream",
     "text": [
      "CPU times: user 16 µs, sys: 2 µs, total: 18 µs\n",
      "Wall time: 21.2 µs\n"
     ]
    },
    {
     "data": {
      "text/plain": [
       "(0.486389035934543, 6)"
      ]
     },
     "execution_count": 4,
     "metadata": {},
     "output_type": "execute_result"
    }
   ],
   "source": [
    "%%time\n",
    "secant_method(func_x, 0, 0.2)"
   ]
  },
  {
   "cell_type": "code",
   "execution_count": 5,
   "metadata": {},
   "outputs": [
    {
     "name": "stdout",
     "output_type": "stream",
     "text": [
      "CPU times: user 25 µs, sys: 4 µs, total: 29 µs\n",
      "Wall time: 33.1 µs\n"
     ]
    },
    {
     "data": {
      "text/plain": [
       "(0.486389035934477, 14)"
      ]
     },
     "execution_count": 5,
     "metadata": {},
     "output_type": "execute_result"
    }
   ],
   "source": [
    "%%time\n",
    "Newton_Raphson(func_x, 0.2)"
   ]
  },
  {
   "cell_type": "markdown",
   "metadata": {},
   "source": [
    "# Week 3"
   ]
  },
  {
   "cell_type": "markdown",
   "metadata": {},
   "source": [
    "bruteforce or scipy.optimize"
   ]
  },
  {
   "cell_type": "code",
   "execution_count": 1,
   "metadata": {},
   "outputs": [],
   "source": [
    "import numpy as np\n",
    "import scipy.optimize as opt\n",
    "from scipy.optimize import minimize\n"
   ]
  },
  {
   "cell_type": "code",
   "execution_count": 13,
   "metadata": {},
   "outputs": [],
   "source": [
    "def f(x):\n",
    "    return x**6 - x**5 + x**4 - 7*x**3 + x**2 + x -5"
   ]
  },
  {
   "cell_type": "code",
   "execution_count": 14,
   "metadata": {},
   "outputs": [
    {
     "data": {
      "image/png": "[encoded data removed]",
      "text/plain": [
       "<Figure size 640x480 with 1 Axes>"
      ]
     },
     "metadata": {},
     "output_type": "display_data"
    }
   ],
   "source": [
    "def matplotlib_display():\n",
    "    import matplotlib.pyplot as plt \n",
    "    x = np.linspace(-2, 2, 100)\n",
    "    plt.plot(x, f(x))\n",
    "    plt.show()\n",
    "matplotlib_display()"
   ]
  },
  {
   "cell_type": "code",
   "execution_count": 26,
   "metadata": {},
   "outputs": [
    {
     "name": "stdout",
     "output_type": "stream",
     "text": [
      "  message: Optimization terminated successfully.\n",
      "  success: True\n",
      "   status: 0\n",
      "      fun: -5.105749483553248\n",
      "        x: [-1.729e-01]\n",
      "      nit: 5\n",
      "      jac: [-5.960e-08]\n",
      " hess_inv: [[ 1.024e-01]]\n",
      "     nfev: 14\n",
      "     njev: 7\n",
      "\n",
      "      converged: True\n",
      "           flag: converged\n",
      " function_calls: 14\n",
      "     iterations: 7\n",
      "           root: 1.6351292084233693\n"
     ]
    }
   ],
   "source": [
    "minfx = minimize(f, 0, method='BFGS')\n",
    "print(minfx)\n",
    "print()\n",
    "def df(x):\n",
    "    return 6*x**5 - 5*x**4 + 4*x**3 - 21*x**2 + 2*x + 1\n",
    "minfx = opt.root_scalar(df, method='newton', x0=1.4)\n",
    "print(minfx)"
   ]
  },
  {
   "cell_type": "code",
   "execution_count": 27,
   "metadata": {},
   "outputs": [
    {
     "data": {
      "text/plain": [
       "-16.721411203227003"
      ]
     },
     "execution_count": 27,
     "metadata": {},
     "output_type": "execute_result"
    }
   ],
   "source": [
    "f(1.6351292084233693)"
   ]
  },
  {
   "cell_type": "code",
   "execution_count": 23,
   "metadata": {},
   "outputs": [
    {
     "data": {
      "text/plain": [
       "{'min': {'x': 1.6356356356356354, 'y': -16.72139934336294},\n",
       " 'max': {'x': -2.0, 'y': 165.0}}"
      ]
     },
     "execution_count": 23,
     "metadata": {},
     "output_type": "execute_result"
    }
   ],
   "source": [
    "def get_derivative_f(x, func, tol=1e-6):\n",
    "    return (func(x + tol) - func(x-tol)) / (2*tol)\n",
    "\n",
    "def BruteForce(func, range, steps, tol=1e-6):\n",
    "    x = np.linspace(range[0], range[1], steps)\n",
    "    y = func(x)\n",
    "    min_index = np.argmin(y)\n",
    "    max_index = np.argmax(y)\n",
    "    x_min = x[min_index]\n",
    "    x_max = x[max_index]\n",
    "    return {\n",
    "        'min': {\n",
    "            'x': x_min,\n",
    "            'y': y[min_index]\n",
    "        },\n",
    "        'max': {\n",
    "            'x': x_max,\n",
    "            'y': y[max_index]\n",
    "        }\n",
    "    }\n",
    "    \n",
    "BruteForce(f, [-2,2], 1000)"
   ]
  },
  {
   "cell_type": "code",
   "execution_count": null,
   "metadata": {},
   "outputs": [],
   "source": []
  }
 ],
 "metadata": {
  "kernelspec": {
   "display_name": "base",
   "language": "python",
   "name": "python3"
  },
  "language_info": {
   "codemirror_mode": {
    "name": "ipython",
    "version": 3
   },
   "file_extension": ".py",
   "mimetype": "text/x-python",
   "name": "python",
   "nbconvert_exporter": "python",
   "pygments_lexer": "ipython3",
   "version": "3.11.5"
  }
 },
 "nbformat": 4,
 "nbformat_minor": 2
}
