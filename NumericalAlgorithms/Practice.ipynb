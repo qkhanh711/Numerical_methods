{
 "cells": [
  {
   "cell_type": "markdown",
   "metadata": {},
   "source": [
    "# Week 2"
   ]
  },
  {
   "cell_type": "code",
   "execution_count": 123,
   "metadata": {},
   "outputs": [],
   "source": [
    "from Algs_scratch import *"
   ]
  },
  {
   "cell_type": "code",
   "execution_count": 124,
   "metadata": {},
   "outputs": [],
   "source": [
    "def func_x(x):\n",
    "    return - x**5 - 2*x + 1"
   ]
  },
  {
   "cell_type": "code",
   "execution_count": 125,
   "metadata": {},
   "outputs": [
    {
     "name": "stdout",
     "output_type": "stream",
     "text": [
      "CPU times: user 8 µs, sys: 1e+03 ns, total: 9 µs\n",
      "Wall time: 11.7 µs\n"
     ]
    }
   ],
   "source": [
    "%%time\n",
    "bisection(-2, 2, func_x)\n"
   ]
  },
  {
   "cell_type": "code",
   "execution_count": 126,
   "metadata": {},
   "outputs": [
    {
     "name": "stdout",
     "output_type": "stream",
     "text": [
      "CPU times: user 26 µs, sys: 2 µs, total: 28 µs\n",
      "Wall time: 30.3 µs\n"
     ]
    },
    {
     "data": {
      "text/plain": [
       "(0.486389035934543, 6)"
      ]
     },
     "execution_count": 126,
     "metadata": {},
     "output_type": "execute_result"
    }
   ],
   "source": [
    "%%time\n",
    "secant_method(func_x, 0, 0.2)"
   ]
  },
  {
   "cell_type": "code",
   "execution_count": 127,
   "metadata": {},
   "outputs": [
    {
     "name": "stdout",
     "output_type": "stream",
     "text": [
      "CPU times: user 28 µs, sys: 2 µs, total: 30 µs\n",
      "Wall time: 34.8 µs\n"
     ]
    },
    {
     "data": {
      "text/plain": [
       "(0.4863890252475381, 8)"
      ]
     },
     "execution_count": 127,
     "metadata": {},
     "output_type": "execute_result"
    }
   ],
   "source": [
    "%%time\n",
    "Newton_Raphson(func_x, 0.2)"
   ]
  },
  {
   "cell_type": "markdown",
   "metadata": {},
   "source": [
    "# Week 3"
   ]
  },
  {
   "cell_type": "markdown",
   "metadata": {},
   "source": [
    "## bruteforce or scipy.optimize"
   ]
  },
  {
   "cell_type": "code",
   "execution_count": 128,
   "metadata": {},
   "outputs": [],
   "source": [
    "import numpy as np\n",
    "import scipy.optimize as opt\n",
    "from scipy.optimize import minimize\n"
   ]
  },
  {
   "cell_type": "code",
   "execution_count": 129,
   "metadata": {},
   "outputs": [],
   "source": [
    "def f(x):\n",
    "    return x**6 - x**5 + x**4 - 7*x**3 + x**2 + x -5"
   ]
  },
  {
   "cell_type": "code",
   "execution_count": 130,
   "metadata": {},
   "outputs": [
    {
     "data": {
      "image/png": "[encoded data removed]",
      "text/plain": [
       "<Figure size 640x480 with 1 Axes>"
      ]
     },
     "metadata": {},
     "output_type": "display_data"
    }
   ],
   "source": [
    "def matplotlib_display():\n",
    "    import matplotlib.pyplot as plt \n",
    "    x = np.linspace(-2, 2, 100)\n",
    "    plt.plot(x, f(x))\n",
    "    plt.show()\n",
    "matplotlib_display()"
   ]
  },
  {
   "cell_type": "code",
   "execution_count": 131,
   "metadata": {},
   "outputs": [
    {
     "name": "stdout",
     "output_type": "stream",
     "text": [
      "Optimization terminated successfully.\n",
      "         Current function value: -5.105749\n",
      "         Iterations: 5\n",
      "         Function evaluations: 14\n",
      "         Gradient evaluations: 7\n",
      "  message: Optimization terminated successfully.\n",
      "  success: True\n",
      "   status: 0\n",
      "      fun: -5.105749483553248\n",
      "        x: [-1.729e-01]\n",
      "      nit: 5\n",
      "      jac: [-5.960e-08]\n",
      " hess_inv: [[ 1.024e-01]]\n",
      "     nfev: 14\n",
      "     njev: 7\n"
     ]
    }
   ],
   "source": [
    "minfx = minimize(f, 0, method='BFGS', options={'disp': True})\n",
    "minimizescalar = opt.minimize_scalar(f, method='brent')\n",
    "print(minfx)\n"
   ]
  },
  {
   "cell_type": "code",
   "execution_count": 132,
   "metadata": {},
   "outputs": [
    {
     "name": "stdout",
     "output_type": "stream",
     "text": [
      "\n",
      "    Newton-Raphson: \n",
      "          converged: True\n",
      "           flag: converged\n",
      " function_calls: 14\n",
      "     iterations: 7\n",
      "           root: 1.6351292084233693\n",
      "    \n",
      "CPU times: user 198 µs, sys: 3.82 ms, total: 4.02 ms\n",
      "Wall time: 3.71 ms\n"
     ]
    }
   ],
   "source": [
    "%%time\n",
    "def df(x):\n",
    "    return 6*x**5 - 5*x**4 + 4*x**3 - 21*x**2 + 2*x + 1\n",
    "    \n",
    "minfx = opt.root_scalar(df, method='newton', x0=1.4)\n",
    "print(f\"\"\"\n",
    "    Newton-Raphson: \n",
    "    {minfx}\n",
    "    \"\"\")"
   ]
  },
  {
   "cell_type": "code",
   "execution_count": 133,
   "metadata": {},
   "outputs": [],
   "source": [
    "def get_derivative_f(x, func, tol=1e-6):\n",
    "    return (func(x + tol) - func(x-tol)) / (2*tol)"
   ]
  },
  {
   "cell_type": "code",
   "execution_count": 134,
   "metadata": {},
   "outputs": [
    {
     "name": "stdout",
     "output_type": "stream",
     "text": [
      "CPU times: user 2.62 ms, sys: 132 µs, total: 2.75 ms\n",
      "Wall time: 1.69 ms\n"
     ]
    },
    {
     "data": {
      "text/plain": [
       "{'min': {'x': 1.631631631631631, 'y': -16.720848456833032},\n",
       " 'max': {'x': -10.0, 'y': 1117085.0}}"
      ]
     },
     "execution_count": 134,
     "metadata": {},
     "output_type": "execute_result"
    }
   ],
   "source": [
    "%%time\n",
    "def BruteForce(func, range, steps, tol=1e-6):\n",
    "    x = np.linspace(range[0], range[1], steps)\n",
    "    y = func(x)\n",
    "    min_index = np.argmin(y)\n",
    "    max_index = np.argmax(y)\n",
    "    x_min = x[min_index]\n",
    "    x_max = x[max_index]\n",
    "    return {\n",
    "        'min': {\n",
    "            'x': x_min,\n",
    "            'y': y[min_index]\n",
    "        },\n",
    "        'max': {\n",
    "            'x': x_max,\n",
    "            'y': y[max_index]\n",
    "        }\n",
    "    }\n",
    "\n",
    "BruteForce(f, [-10,10], 1000)"
   ]
  },
  {
   "cell_type": "markdown",
   "metadata": {},
   "source": [
    "## x = [x1,x2]\n",
    "\n",
    "$$\n",
    "x \\in \\left[ 0, 1 \\right]^2\n",
    "$$"
   ]
  },
  {
   "cell_type": "code",
   "execution_count": 135,
   "metadata": {},
   "outputs": [
    {
     "name": "stdout",
     "output_type": "stream",
     "text": [
      "[[0.32530366 0.57916477]\n",
      " [0.97250992 0.35704447]]\n",
      "[[0.91321436]\n",
      " [0.21012293]]\n",
      "[[0.95763043]]\n"
     ]
    }
   ],
   "source": [
    "A = np.random.rand(2,2)\n",
    "C = np.random.rand(2,1)\n",
    "D = np.random.rand(1,1)\n",
    "print(A)\n",
    "print(C)\n",
    "print(D)\n",
    "X = np.random.rand(2,1)"
   ]
  },
  {
   "cell_type": "code",
   "execution_count": 136,
   "metadata": {},
   "outputs": [
    {
     "data": {
      "text/plain": [
       "(1, 1)"
      ]
     },
     "execution_count": 136,
     "metadata": {},
     "output_type": "execute_result"
    }
   ],
   "source": [
    "def f(x):\n",
    "    return x.T @ A @ x + C.T @ x + D\n",
    "\n",
    "def test():\n",
    "    x=np.random.rand(2,1)\n",
    "    return x, f(x)\n",
    "\n",
    "def df(x, tol=1e-6):\n",
    "    return ((f(x + tol) - f(x-tol)) / (2*tol))\n",
    "df(X).shape"
   ]
  },
  {
   "cell_type": "code",
   "execution_count": 137,
   "metadata": {},
   "outputs": [
    {
     "name": "stderr",
     "output_type": "stream",
     "text": [
      "/tmp/ipykernel_17092/432769170.py:2: DeprecationWarning: scipy.misc.derivative is deprecated in SciPy v1.10.0; and will be completely removed in SciPy v1.12.0. You may consider using findiff: https://github.com/maroba/findiff or numdifftools: https://github.com/pbrod/numdifftools\n",
      "  misc.derivative(f, X)\n"
     ]
    },
    {
     "data": {
      "text/plain": [
       "array([[3.66486678]])"
      ]
     },
     "execution_count": 137,
     "metadata": {},
     "output_type": "execute_result"
    }
   ],
   "source": [
    "import scipy.misc as misc\n",
    "misc.derivative(f, X)"
   ]
  },
  {
   "cell_type": "code",
   "execution_count": 138,
   "metadata": {},
   "outputs": [
    {
     "name": "stdout",
     "output_type": "stream",
     "text": [
      "         Current function value: -836621.882681\n",
      "         Iterations: 2\n",
      "         Function evaluations: 351\n",
      "         Gradient evaluations: 113\n"
     ]
    },
    {
     "name": "stderr",
     "output_type": "stream",
     "text": [
      "/home/nyanmaruk/anaconda3/lib/python3.11/site-packages/scipy/optimize/_minimize.py:705: OptimizeWarning: Desired error not necessarily achieved due to precision loss.\n",
      "  res = _minimize_bfgs(fun, x0, args, jac, callback, **options)\n"
     ]
    }
   ],
   "source": [
    "minfx = opt.minimize(f, X.reshape(-1), method='BFGS', options={'disp': True})"
   ]
  },
  {
   "cell_type": "markdown",
   "metadata": {},
   "source": [
    "# Week4"
   ]
  },
  {
   "cell_type": "markdown",
   "metadata": {},
   "source": [
    "## find f'"
   ]
  },
  {
   "cell_type": "code",
   "execution_count": 139,
   "metadata": {},
   "outputs": [
    {
     "data": {
      "text/plain": [
       "7"
      ]
     },
     "execution_count": 139,
     "metadata": {},
     "output_type": "execute_result"
    }
   ],
   "source": [
    "n = np.random.randint(1, 10)\n",
    "n\n"
   ]
  },
  {
   "cell_type": "code",
   "execution_count": 140,
   "metadata": {},
   "outputs": [
    {
     "data": {
      "text/plain": [
       "array([0.14786527, 0.35485702, 0.9161033 , 0.9594957 , 0.41963585,\n",
       "       0.51308659, 0.68883107])"
      ]
     },
     "execution_count": 140,
     "metadata": {},
     "output_type": "execute_result"
    }
   ],
   "source": [
    "params = np.random.rand(n)\n",
    "params"
   ]
  },
  {
   "cell_type": "code",
   "execution_count": 141,
   "metadata": {},
   "outputs": [
    {
     "data": {
      "text/plain": [
       "array([[7, 4],\n",
       "       [2, 2],\n",
       "       [8, 7],\n",
       "       [2, 2],\n",
       "       [6, 7],\n",
       "       [4, 2],\n",
       "       [1, 7]])"
      ]
     },
     "execution_count": 141,
     "metadata": {},
     "output_type": "execute_result"
    }
   ],
   "source": [
    "coordinates = []\n",
    "for i in range(n):\n",
    "    x = np.random.randint(0,10) \n",
    "    y = np.random.randint(0,10)\n",
    "    coordinates.append((x,y))\n",
    "coordinates = np.array(coordinates)\n",
    "coordinates"
   ]
  },
  {
   "cell_type": "code",
   "execution_count": 142,
   "metadata": {},
   "outputs": [
    {
     "name": "stderr",
     "output_type": "stream",
     "text": [
      "/home/nyanmaruk/anaconda3/lib/python3.11/site-packages/scipy/optimize/_minpack_py.py:1010: OptimizeWarning: Covariance of the parameters could not be estimated\n",
      "  warnings.warn('Covariance of the parameters could not be estimated',\n"
     ]
    },
    {
     "name": "stdout",
     "output_type": "stream",
     "text": [
      "[ 1.03195196e+01 -9.13474333e-01 -2.92901015e+00  2.74403827e-01\n",
      "  3.16378663e-01 -7.20783290e-02  4.26073397e-03]\n"
     ]
    },
    {
     "data": {
      "image/png": "[encoded data removed]",
      "text/plain": [
       "<Figure size 640x480 with 1 Axes>"
      ]
     },
     "metadata": {},
     "output_type": "display_data"
    }
   ],
   "source": [
    "from scipy.optimize import curve_fit\n",
    "import matplotlib.pyplot as plt\n",
    "\n",
    "x = coordinates[:, 0]\n",
    "y = coordinates[:, 1]\n",
    "\n",
    "def target_function(x, *params):\n",
    "    # result_f = 0\n",
    "    # for i in range(len(params)):\n",
    "    #     result_f += params[i] * x**i\n",
    "    return sum([params[i] * x**i for i in range(len(params))])\n",
    "\n",
    "fit_params, pcov = curve_fit(target_function, x, y, p0=params.tolist())\n",
    "print(fit_params)\n",
    "\n",
    "x_new = np.linspace(min(x), max(x), 100)\n",
    "\n",
    "y_new = target_function(x_new, *fit_params)    # Create an coordinate\n",
    "\n",
    "\n",
    "plt.scatter(x, y)\n",
    "plt.plot(x_new, y_new, label='f(x)', color='red')\n",
    "plt.legend()\n",
    "plt.xlabel('X')\n",
    "plt.ylabel('Y')\n",
    "plt.show()"
   ]
  },
  {
   "cell_type": "code",
   "execution_count": 143,
   "metadata": {},
   "outputs": [],
   "source": [
    "def df(x, tol = 1e-6):\n",
    "    return ((target_function((x + tol), *fit_params) - target_function((x-tol), *fit_params)) / (2*tol))"
   ]
  },
  {
   "cell_type": "code",
   "execution_count": 144,
   "metadata": {},
   "outputs": [
    {
     "data": {
      "text/plain": [
       "-5.017595737122349"
      ]
     },
     "execution_count": 144,
     "metadata": {},
     "output_type": "execute_result"
    }
   ],
   "source": [
    "df(1)"
   ]
  },
  {
   "cell_type": "markdown",
   "metadata": {},
   "source": [
    "## Homework"
   ]
  },
  {
   "cell_type": "markdown",
   "metadata": {},
   "source": [
    "ktra co phai toi uu loi khong (Check is convex)\n",
    "sd phuong phap roi rac hoa de giai\n",
    "$$\n",
    "    f_i(x_i) = x_i.\\log_2{(1+\\frac{a_i}{x_i})} + \\frac{1}{r_i}.\\log_2{(1 + b_i.x_i)}\n",
    "$$\n",
    "\n",
    "hai ham thanh phan deu phu thuoc vao 1 bien\n",
    "\n",
    "=> ap dung tong hai ham loi la ham loi\n",
    "\n",
    "=> chung minh cac ham thanh phan la loi\n",
    "\n",
    "ddf>0 la ham loi"
   ]
  },
  {
   "cell_type": "code",
   "execution_count": 145,
   "metadata": {},
   "outputs": [
    {
     "name": "stdout",
     "output_type": "stream",
     "text": [
      "Hessian Matrix:\n",
      "[[-55.51115123]]\n",
      "         Current function value: nan\n",
      "         Iterations: 2\n",
      "         Function evaluations: 246\n",
      "         Gradient evaluations: 123\n"
     ]
    },
    {
     "name": "stderr",
     "output_type": "stream",
     "text": [
      "/tmp/ipykernel_17092/1492801064.py:5: RuntimeWarning: invalid value encountered in log2\n",
      "  return x*np.log2(a/x) + (1/r)*np.log2(1 + b*x)\n",
      "/tmp/ipykernel_17092/1492801064.py:5: RuntimeWarning: invalid value encountered in log2\n",
      "  return x*np.log2(a/x) + (1/r)*np.log2(1 + b*x)\n",
      "/home/nyanmaruk/anaconda3/lib/python3.11/site-packages/scipy/optimize/_minimize.py:705: OptimizeWarning: Desired error not necessarily achieved due to precision loss.\n",
      "  res = _minimize_bfgs(fun, x0, args, jac, callback, **options)\n"
     ]
    },
    {
     "data": {
      "text/plain": [
       "  message: Desired error not necessarily achieved due to precision loss.\n",
       "  success: False\n",
       "   status: 2\n",
       "      fun: nan\n",
       "        x: [-1.181e+06]\n",
       "      nit: 2\n",
       "      jac: [       nan]\n",
       " hess_inv: [[-8.917e+01]]\n",
       "     nfev: 246\n",
       "     njev: 123"
      ]
     },
     "execution_count": 145,
     "metadata": {},
     "output_type": "execute_result"
    }
   ],
   "source": [
    "import numpy as np\n",
    "from scipy.optimize import minimize\n",
    "\n",
    "def f(x, a, r, b):\n",
    "    return x*np.log2(a/x) + (1/r)*np.log2(1 + b*x)\n",
    "\n",
    "def df(x, a, r, b, tol=1e-6):\n",
    "    return ((f(x + tol, a, r, b) - f(x-tol, a, r, b)) / (2*tol))\n",
    "\n",
    "def df2(x, a, r, b, tol=1e-6):\n",
    "    return ((df(x + tol, a, r, b) - df(x-tol, a, r, b)) / (2*tol))\n",
    "\n",
    "a = np.random.rand()\n",
    "r = np.random.rand()\n",
    "b = np.random.rand()\n",
    "\n",
    "x0 = np.random.rand()\n",
    "x0\n",
    "def hessian_matrix(x, a, r, b, tol=1e-6):\n",
    "    hessian = np.zeros((1, 1))\n",
    "    f_x = df(x, a, r, b, tol)\n",
    "    f_x_plus_h = df(x + tol, a, r, b, tol)\n",
    "    f_x_minus_h = df(x - tol, a, r, b, tol)\n",
    "    second_derivative = (f_x_plus_h - 2 * f_x + f_x_minus_h) / (tol ** 2)\n",
    "    hessian[0, 0] = second_derivative\n",
    "    return hessian\n",
    "\n",
    "hessian_matrix_result = hessian_matrix(x0, a, r, b)\n",
    "print(\"Hessian Matrix:\")\n",
    "print(hessian_matrix_result)\n",
    "minfx = minimize(f, x0, args=(a, r, b), method='BFGS', options={'disp': True})\n",
    "minfx"
   ]
  },
  {
   "cell_type": "code",
   "execution_count": 146,
   "metadata": {},
   "outputs": [
    {
     "data": {
      "image/png": "[encoded data removed]",
      "text/plain": [
       "<Figure size 640x480 with 1 Axes>"
      ]
     },
     "metadata": {},
     "output_type": "display_data"
    }
   ],
   "source": [
    "def visualize():\n",
    "    import matplotlib.pyplot as plt\n",
    "    x = np.linspace(0.1, 10, 100)\n",
    "    plt.plot(x, f(x, a, r, b))\n",
    "    plt.plot(x, df(x, a, r, b))\n",
    "    plt.plot(x, df2(x, a, r, b))\n",
    "    plt.legend(['f(x)', 'df(x)', 'df2(x)'])\n",
    "    plt.show()\n",
    "visualize()"
   ]
  },
  {
   "cell_type": "markdown",
   "metadata": {},
   "source": [
    "## multi variables"
   ]
  },
  {
   "cell_type": "code",
   "execution_count": 147,
   "metadata": {},
   "outputs": [
    {
     "name": "stdout",
     "output_type": "stream",
     "text": [
      "1\n",
      "[0.71659688]\n",
      "         Current function value: nan\n",
      "         Iterations: 2\n",
      "         Function evaluations: 246\n",
      "         Gradient evaluations: 123\n"
     ]
    },
    {
     "name": "stderr",
     "output_type": "stream",
     "text": [
      "/home/nyanmaruk/anaconda3/lib/python3.11/site-packages/scipy/optimize/_minimize.py:576: RuntimeWarning: Method BFGS cannot handle constraints.\n",
      "  warn('Method %s cannot handle constraints.' % method,\n",
      "/tmp/ipykernel_17092/1492801064.py:5: RuntimeWarning: invalid value encountered in log2\n",
      "  return x*np.log2(a/x) + (1/r)*np.log2(1 + b*x)\n",
      "/tmp/ipykernel_17092/1492801064.py:5: RuntimeWarning: invalid value encountered in log2\n",
      "  return x*np.log2(a/x) + (1/r)*np.log2(1 + b*x)\n",
      "/home/nyanmaruk/anaconda3/lib/python3.11/site-packages/scipy/optimize/_minimize.py:705: OptimizeWarning: Desired error not necessarily achieved due to precision loss.\n",
      "  res = _minimize_bfgs(fun, x0, args, jac, callback, **options)\n"
     ]
    },
    {
     "data": {
      "text/plain": [
       "  message: Desired error not necessarily achieved due to precision loss.\n",
       "  success: False\n",
       "   status: 2\n",
       "      fun: nan\n",
       "        x: [-1.285e+06]\n",
       "      nit: 2\n",
       "      jac: [       nan]\n",
       " hess_inv: [[-9.744e+01]]\n",
       "     nfev: 246\n",
       "     njev: 123"
      ]
     },
     "execution_count": 147,
     "metadata": {},
     "output_type": "execute_result"
    }
   ],
   "source": [
    "n = np.random.randint(1, 10)\n",
    "print(n)\n",
    "# n =1\n",
    "x0 = np.random.rand(n)\n",
    "a = np.random.rand(n)\n",
    "r = np.random.rand(n)\n",
    "b = np.random.rand(n)\n",
    "print(x0)\n",
    "\n",
    "def d_multi_variables(x,a,r,b):\n",
    "    return np.sum([f(xi,a,r,b) for xi in x])\n",
    "\n",
    "cons = [{'type': 'ineq', 'fun': lambda: d_multi_variables < 1.0},\n",
    "        {'type': 'ineq', 'fun': lambda: d_multi_variables > 0.001}]\n",
    "\n",
    "d_multi_variables(x0,a,r,b)\n",
    "minfx = minimize(d_multi_variables, x0, args=(a, r, b), method='BFGS'\n",
    "                 , options={'disp': True}, constraints=cons)\n",
    "minfx"
   ]
  },
  {
   "cell_type": "markdown",
   "metadata": {},
   "source": [
    "# Week5"
   ]
  },
  {
   "cell_type": "markdown",
   "metadata": {},
   "source": [
    "$$\n",
    "    \\sum_{i-1}^M ||f_i{(x_i)}||_p \\\\\n",
    "\\max  a^TX \\\\\n",
    "\\text{s.t } Ax <= b\n",
    "$$"
   ]
  },
  {
   "cell_type": "code",
   "execution_count": 20,
   "metadata": {},
   "outputs": [
    {
     "name": "stdout",
     "output_type": "stream",
     "text": [
      "Dimesion:  9\n",
      "Variables [0.65602522 0.64534797 0.09993933 0.01482881 0.61560053 0.12858347\n",
      " 0.07596724 0.72973911 0.69122901]\n",
      "value of objective function 11.268636303119957\n",
      "Norm p:  6\n",
      "11.268636303119957\n"
     ]
    }
   ],
   "source": [
    "import numpy as np\n",
    "def f(x):\n",
    "    return x**2 + 1\n",
    "\n",
    "n = np.random.randint(1,10)\n",
    "print(\"Dimesion: \", n)\n",
    "X = np.random.rand(n)\n",
    "print(\"Variables\",X)\n",
    "func_values = np.array([f(x) for  x in X])\n",
    "print(\"Value of objective function\",sum(func_values))\n",
    "p = np.random.randint(1,10)\n",
    "print(\"Norm p: \",p)\n",
    "\n",
    "def Obj_func(X, func):\n",
    "    return np.sum([func(x) for x in X])\n",
    "print(Obj_func(X,f))\n",
    "\n"
   ]
  },
  {
   "cell_type": "code",
   "execution_count": 19,
   "metadata": {},
   "outputs": [
    {
     "data": {
      "text/plain": [
       "2.1345056419665904"
      ]
     },
     "execution_count": 19,
     "metadata": {},
     "output_type": "execute_result"
    }
   ],
   "source": [
    "np.linalg.norm(f(X),p)"
   ]
  }
 ],
 "metadata": {
  "kernelspec": {
   "display_name": "base",
   "language": "python",
   "name": "python3"
  },
  "language_info": {
   "codemirror_mode": {
    "name": "ipython",
    "version": 3
   },
   "file_extension": ".py",
   "mimetype": "text/x-python",
   "name": "python",
   "nbconvert_exporter": "python",
   "pygments_lexer": "ipython3",
   "version": "3.11.5"
  }
 },
 "nbformat": 4,
 "nbformat_minor": 2
}
