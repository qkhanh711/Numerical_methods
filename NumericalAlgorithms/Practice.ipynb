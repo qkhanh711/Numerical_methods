{
 "cells": [
  {
   "cell_type": "code",
   "execution_count": 8,
   "metadata": {},
   "outputs": [],
   "source": [
    "def func_x(x):\n",
    "    return - x**5 - 2*x + 1"
   ]
  },
  {
   "cell_type": "code",
   "execution_count": 9,
   "metadata": {},
   "outputs": [],
   "source": [
    "def bisection(a, b, func_x, tol=1e-5):\n",
    "    if abs(a - b) < tol:\n",
    "        c = (a + b) / 2\n",
    "        if func_x(c) == 0:\n",
    "            return c\n",
    "        elif func_x(a) * func_x(c) < 0:\n",
    "            return bisection(a, c, func_x)\n",
    "        elif func_x(a) * func_x(c) > 0:\n",
    "            return bisection(c, b, func_x)\n",
    "        else:\n",
    "            return \"No root in (a, b)\""
   ]
  },
  {
   "cell_type": "code",
   "execution_count": 33,
   "metadata": {},
   "outputs": [],
   "source": [
    "def secant_method(func, x0, x1, tol=1e-10, max_iter=100):\n",
    "    x_k_minus_1 = x0\n",
    "    x_k = x1\n",
    "    for iteration in range(max_iter):\n",
    "        f_k_minus_1 = func(x_k_minus_1)\n",
    "        f_k = func(x_k)\n",
    "        x_k_plus_1 = x_k - f_k * (x_k - x_k_minus_1) / (f_k - f_k_minus_1)\n",
    "        if abs(x_k_plus_1 - x_k) < tol:\n",
    "            return x_k_plus_1, iteration + 1\n",
    "        x_k_minus_1, x_k = x_k, x_k_plus_1"
   ]
  },
  {
   "cell_type": "code",
   "execution_count": 34,
   "metadata": {},
   "outputs": [],
   "source": [
    "def Newton_Raphson(func, x0, tol=1e-12, max_iter=100):\n",
    "    x = x0\n",
    "    dfunc = (func(x + tol) - func(x)) / tol\n",
    "    for iteration in range(max_iter):\n",
    "        x = x - func(x) / dfunc\n",
    "        if abs(func(x)) < tol:\n",
    "            return x, iteration + 1"
   ]
  },
  {
   "cell_type": "code",
   "execution_count": 35,
   "metadata": {},
   "outputs": [
    {
     "name": "stdout",
     "output_type": "stream",
     "text": [
      "CPU times: user 10 µs, sys: 1e+03 ns, total: 11 µs\n",
      "Wall time: 15.7 µs\n"
     ]
    }
   ],
   "source": [
    "%%time\n",
    "bisection(-2, 2, func_x)\n"
   ]
  },
  {
   "cell_type": "code",
   "execution_count": 36,
   "metadata": {},
   "outputs": [
    {
     "name": "stdout",
     "output_type": "stream",
     "text": [
      "CPU times: user 37 µs, sys: 3 µs, total: 40 µs\n",
      "Wall time: 44.6 µs\n"
     ]
    },
    {
     "data": {
      "text/plain": [
       "(0.486389035934543, 6)"
      ]
     },
     "execution_count": 36,
     "metadata": {},
     "output_type": "execute_result"
    }
   ],
   "source": [
    "%%time\n",
    "secant_method(func_x, 0, 0.2)"
   ]
  },
  {
   "cell_type": "code",
   "execution_count": 37,
   "metadata": {},
   "outputs": [
    {
     "name": "stdout",
     "output_type": "stream",
     "text": [
      "CPU times: user 33 µs, sys: 2 µs, total: 35 µs\n",
      "Wall time: 38.6 µs\n"
     ]
    },
    {
     "data": {
      "text/plain": [
       "(0.486389035934477, 14)"
      ]
     },
     "execution_count": 37,
     "metadata": {},
     "output_type": "execute_result"
    }
   ],
   "source": [
    "%%time\n",
    "Newton_Raphson(func_x, 0.2)"
   ]
  },
  {
   "cell_type": "code",
   "execution_count": null,
   "metadata": {},
   "outputs": [],
   "source": [
    "# oPTIM CUAR HAFM KO RANGF BUOOJC\n",
    "# Toocs do hoi tu thuat toan cho cac phuong trinhf nhieu bien so\n"
   ]
  }
 ],
 "metadata": {
  "kernelspec": {
   "display_name": "base",
   "language": "python",
   "name": "python3"
  },
  "language_info": {
   "codemirror_mode": {
    "name": "ipython",
    "version": 3
   },
   "file_extension": ".py",
   "mimetype": "text/x-python",
   "name": "python",
   "nbconvert_exporter": "python",
   "pygments_lexer": "ipython3",
   "version": "3.11.5"
  }
 },
 "nbformat": 4,
 "nbformat_minor": 2
}
