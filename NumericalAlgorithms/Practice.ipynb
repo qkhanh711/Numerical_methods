{
 "cells": [
  {
   "cell_type": "markdown",
   "metadata": {},
   "source": [
    "# Week 2"
   ]
  },
  {
   "cell_type": "code",
   "execution_count": 139,
   "metadata": {},
   "outputs": [],
   "source": [
    "from Algs_scratch import *"
   ]
  },
  {
   "cell_type": "code",
   "execution_count": 140,
   "metadata": {},
   "outputs": [],
   "source": [
    "def func_x(x):\n",
    "    return - x**5 - 2*x + 1"
   ]
  },
  {
   "cell_type": "code",
   "execution_count": 141,
   "metadata": {},
   "outputs": [
    {
     "name": "stdout",
     "output_type": "stream",
     "text": [
      "CPU times: user 10 µs, sys: 0 ns, total: 10 µs\n",
      "Wall time: 15.7 µs\n"
     ]
    }
   ],
   "source": [
    "%%time\n",
    "bisection(-2, 2, func_x)\n"
   ]
  },
  {
   "cell_type": "code",
   "execution_count": 142,
   "metadata": {},
   "outputs": [
    {
     "name": "stdout",
     "output_type": "stream",
     "text": [
      "CPU times: user 28 µs, sys: 0 ns, total: 28 µs\n",
      "Wall time: 31 µs\n"
     ]
    },
    {
     "data": {
      "text/plain": [
       "(0.486389035934543, 6)"
      ]
     },
     "execution_count": 142,
     "metadata": {},
     "output_type": "execute_result"
    }
   ],
   "source": [
    "%%time\n",
    "secant_method(func_x, 0, 0.2)"
   ]
  },
  {
   "cell_type": "code",
   "execution_count": 143,
   "metadata": {},
   "outputs": [
    {
     "name": "stdout",
     "output_type": "stream",
     "text": [
      "CPU times: user 21 µs, sys: 1e+03 ns, total: 22 µs\n",
      "Wall time: 25.3 µs\n"
     ]
    },
    {
     "data": {
      "text/plain": [
       "(0.4863890252475381, 8)"
      ]
     },
     "execution_count": 143,
     "metadata": {},
     "output_type": "execute_result"
    }
   ],
   "source": [
    "%%time\n",
    "Newton_Raphson(func_x, 0.2)"
   ]
  },
  {
   "cell_type": "markdown",
   "metadata": {},
   "source": [
    "# Week 3"
   ]
  },
  {
   "cell_type": "markdown",
   "metadata": {},
   "source": [
    "## bruteforce or scipy.optimize"
   ]
  },
  {
   "cell_type": "code",
   "execution_count": 144,
   "metadata": {},
   "outputs": [],
   "source": [
    "import numpy as np\n",
    "import scipy.optimize as opt\n",
    "from scipy.optimize import minimize\n"
   ]
  },
  {
   "cell_type": "code",
   "execution_count": 145,
   "metadata": {},
   "outputs": [],
   "source": [
    "def f(x):\n",
    "    return x**6 - x**5 + x**4 - 7*x**3 + x**2 + x -5"
   ]
  },
  {
   "cell_type": "code",
   "execution_count": 146,
   "metadata": {},
   "outputs": [
    {
     "data": {
      "image/png": "[encoded data removed]",
      "text/plain": [
       "<Figure size 640x480 with 1 Axes>"
      ]
     },
     "metadata": {},
     "output_type": "display_data"
    }
   ],
   "source": [
    "def matplotlib_display():\n",
    "    import matplotlib.pyplot as plt \n",
    "    x = np.linspace(-2, 2, 100)\n",
    "    plt.plot(x, f(x))\n",
    "    plt.show()\n",
    "matplotlib_display()"
   ]
  },
  {
   "cell_type": "code",
   "execution_count": 147,
   "metadata": {},
   "outputs": [
    {
     "name": "stdout",
     "output_type": "stream",
     "text": [
      "Optimization terminated successfully.\n",
      "         Current function value: -5.105749\n",
      "         Iterations: 5\n",
      "         Function evaluations: 14\n",
      "         Gradient evaluations: 7\n",
      "  message: Optimization terminated successfully.\n",
      "  success: True\n",
      "   status: 0\n",
      "      fun: -5.105749483553248\n",
      "        x: [-1.729e-01]\n",
      "      nit: 5\n",
      "      jac: [-5.960e-08]\n",
      " hess_inv: [[ 1.024e-01]]\n",
      "     nfev: 14\n",
      "     njev: 7\n"
     ]
    }
   ],
   "source": [
    "minfx = minimize(f, 0, method='BFGS', options={'disp': True})\n",
    "minimizescalar = opt.minimize_scalar(f, method='brent')\n",
    "print(minfx)\n"
   ]
  },
  {
   "cell_type": "code",
   "execution_count": 148,
   "metadata": {},
   "outputs": [
    {
     "name": "stdout",
     "output_type": "stream",
     "text": [
      "\n",
      "    Newton-Raphson: \n",
      "          converged: True\n",
      "           flag: converged\n",
      " function_calls: 14\n",
      "     iterations: 7\n",
      "           root: 1.6351292084233693\n",
      "    \n",
      "CPU times: user 1.74 ms, sys: 3.63 ms, total: 5.37 ms\n",
      "Wall time: 4.98 ms\n"
     ]
    }
   ],
   "source": [
    "%%time\n",
    "def df(x):\n",
    "    return 6*x**5 - 5*x**4 + 4*x**3 - 21*x**2 + 2*x + 1\n",
    "    \n",
    "minfx = opt.root_scalar(df, method='newton', x0=1.4)\n",
    "print(f\"\"\"\n",
    "    Newton-Raphson: \n",
    "    {minfx}\n",
    "    \"\"\")"
   ]
  },
  {
   "cell_type": "code",
   "execution_count": 149,
   "metadata": {},
   "outputs": [],
   "source": [
    "def get_derivative_f(x, func, tol=1e-6):\n",
    "    return (func(x + tol) - func(x-tol)) / (2*tol)\n"
   ]
  },
  {
   "cell_type": "code",
   "execution_count": 150,
   "metadata": {},
   "outputs": [
    {
     "name": "stdout",
     "output_type": "stream",
     "text": [
      "CPU times: user 4.08 ms, sys: 294 µs, total: 4.38 ms\n",
      "Wall time: 2.76 ms\n"
     ]
    },
    {
     "data": {
      "text/plain": [
       "{'min': {'x': 1.631631631631631, 'y': -16.720848456833032},\n",
       " 'max': {'x': -10.0, 'y': 1117085.0}}"
      ]
     },
     "execution_count": 150,
     "metadata": {},
     "output_type": "execute_result"
    }
   ],
   "source": [
    "%%time\n",
    "def BruteForce(func, range, steps, tol=1e-6):\n",
    "    x = np.linspace(range[0], range[1], steps)\n",
    "    y = func(x)\n",
    "    min_index = np.argmin(y)\n",
    "    max_index = np.argmax(y)\n",
    "    x_min = x[min_index]\n",
    "    x_max = x[max_index]\n",
    "    return {\n",
    "        'min': {\n",
    "            'x': x_min,\n",
    "            'y': y[min_index]\n",
    "        },\n",
    "        'max': {\n",
    "            'x': x_max,\n",
    "            'y': y[max_index]\n",
    "        }\n",
    "    }\n",
    "\n",
    "BruteForce(f, [-10,10], 1000)"
   ]
  },
  {
   "cell_type": "markdown",
   "metadata": {},
   "source": [
    "## x = [x1,x2]\n",
    "\n",
    "$$\n",
    "x \\in \\left[ 0, 1 \\right]^2\n",
    "$$"
   ]
  },
  {
   "cell_type": "code",
   "execution_count": 151,
   "metadata": {},
   "outputs": [
    {
     "name": "stdout",
     "output_type": "stream",
     "text": [
      "[[0.27459855 0.30119943]\n",
      " [0.12312308 0.90722738]]\n",
      "[[0.3310752 ]\n",
      " [0.26119596]]\n",
      "[[0.40791828]]\n"
     ]
    }
   ],
   "source": [
    "A = np.random.rand(2,2)\n",
    "C = np.random.rand(2,1)\n",
    "D = np.random.rand(1,1)\n",
    "print(A)\n",
    "print(C)\n",
    "print(D)\n",
    "X = np.random.rand(2,1)"
   ]
  },
  {
   "cell_type": "code",
   "execution_count": 152,
   "metadata": {},
   "outputs": [
    {
     "data": {
      "text/plain": [
       "(1, 1)"
      ]
     },
     "execution_count": 152,
     "metadata": {},
     "output_type": "execute_result"
    }
   ],
   "source": [
    "def f(x):\n",
    "    return x.T @ A @ x + C.T @ x + D\n",
    "\n",
    "def test():\n",
    "    x=np.random.rand(2,1)\n",
    "    return x, f(x)\n",
    "\n",
    "def df(x, tol=1e-6):\n",
    "    return ((f(x + tol) - f(x-tol)) / (2*tol))\n",
    "df(X).shape"
   ]
  },
  {
   "cell_type": "code",
   "execution_count": 153,
   "metadata": {},
   "outputs": [
    {
     "name": "stderr",
     "output_type": "stream",
     "text": [
      "/tmp/ipykernel_5256/432769170.py:2: DeprecationWarning: scipy.misc.derivative is deprecated in SciPy v1.10.0; and will be completely removed in SciPy v1.12.0. You may consider using findiff: https://github.com/maroba/findiff or numdifftools: https://github.com/pbrod/numdifftools\n",
      "  misc.derivative(f, X)\n"
     ]
    },
    {
     "data": {
      "text/plain": [
       "array([[1.85963931]])"
      ]
     },
     "execution_count": 153,
     "metadata": {},
     "output_type": "execute_result"
    }
   ],
   "source": [
    "import scipy.misc as misc\n",
    "misc.derivative(f, X)"
   ]
  },
  {
   "cell_type": "code",
   "execution_count": 154,
   "metadata": {},
   "outputs": [
    {
     "name": "stdout",
     "output_type": "stream",
     "text": [
      "Optimization terminated successfully.\n",
      "         Current function value: 0.308117\n",
      "         Iterations: 6\n",
      "         Function evaluations: 21\n",
      "         Gradient evaluations: 7\n"
     ]
    }
   ],
   "source": [
    "minfx = opt.minimize(f, X.reshape(-1), method='BFGS', options={'disp': True})"
   ]
  },
  {
   "cell_type": "markdown",
   "metadata": {},
   "source": [
    "# Week4"
   ]
  },
  {
   "cell_type": "markdown",
   "metadata": {},
   "source": [
    "## find f'"
   ]
  },
  {
   "cell_type": "code",
   "execution_count": 164,
   "metadata": {},
   "outputs": [
    {
     "data": {
      "text/plain": [
       "8"
      ]
     },
     "execution_count": 164,
     "metadata": {},
     "output_type": "execute_result"
    }
   ],
   "source": [
    "n = np.random.randint(1, 10)\n",
    "n\n"
   ]
  },
  {
   "cell_type": "code",
   "execution_count": 165,
   "metadata": {},
   "outputs": [
    {
     "data": {
      "text/plain": [
       "array([0.92841275, 0.73851291, 0.85737715, 0.5924553 , 0.15742715,\n",
       "       0.40741475, 0.57894832, 0.43392129])"
      ]
     },
     "execution_count": 165,
     "metadata": {},
     "output_type": "execute_result"
    }
   ],
   "source": [
    "params = np.random.rand(n)\n",
    "params"
   ]
  },
  {
   "cell_type": "code",
   "execution_count": 166,
   "metadata": {},
   "outputs": [
    {
     "data": {
      "text/plain": [
       "array([[9, 0],\n",
       "       [2, 5],\n",
       "       [6, 0],\n",
       "       [5, 7],\n",
       "       [2, 9],\n",
       "       [1, 4],\n",
       "       [1, 2],\n",
       "       [7, 2]])"
      ]
     },
     "execution_count": 166,
     "metadata": {},
     "output_type": "execute_result"
    }
   ],
   "source": [
    "coordinates = []\n",
    "for i in range(n):\n",
    "    # Create an coordinate\n",
    "    x = np.random.randint(0,10) \n",
    "    y = np.random.randint(0,10)\n",
    "    coordinates.append((x,y))\n",
    "coordinates\n",
    "coordinates = np.array(coordinates)\n",
    "coordinates"
   ]
  },
  {
   "cell_type": "code",
   "execution_count": 167,
   "metadata": {},
   "outputs": [
    {
     "name": "stdout",
     "output_type": "stream",
     "text": [
      "[ 5.52003708e+05 -1.13276441e+06  7.88230996e+05 -2.37512256e+05\n",
      "  3.10474591e+04 -8.58325131e+02 -1.54181873e+02  1.00067615e+01]\n"
     ]
    },
    {
     "data": {
      "image/png": "[encoded data removed]",
      "text/plain": [
       "<Figure size 640x480 with 1 Axes>"
      ]
     },
     "metadata": {},
     "output_type": "display_data"
    }
   ],
   "source": [
    "from scipy.optimize import curve_fit\n",
    "import matplotlib.pyplot as plt\n",
    "\n",
    "x = coordinates[:, 0]\n",
    "y = coordinates[:, 1]\n",
    "\n",
    "def target_function(x, *params):\n",
    "    # result_f = 0\n",
    "    # for i in range(len(params)):\n",
    "    #     result_f += params[i] * x**i\n",
    "    return sum([params[i] * x**i for i in range(len(params))])\n",
    "\n",
    "fit_params, pcov = curve_fit(target_function, x, y, p0=params.tolist())\n",
    "print(fit_params)\n",
    "\n",
    "x_new = np.linspace(min(x), max(x), 100)\n",
    "\n",
    "y_new = target_function(x_new, *fit_params)\n",
    "\n",
    "plt.scatter(x, y)\n",
    "plt.plot(x_new, y_new, label='f(x)', color='red')\n",
    "plt.legend()\n",
    "plt.xlabel('X')\n",
    "plt.ylabel('Y')\n",
    "plt.show()"
   ]
  },
  {
   "cell_type": "code",
   "execution_count": 159,
   "metadata": {},
   "outputs": [],
   "source": [
    "def df(x, tol = 1e-6):\n",
    "    return ((target_function((x + tol), *fit_params) - target_function((x-tol), *fit_params)) / (2*tol))"
   ]
  },
  {
   "cell_type": "code",
   "execution_count": 160,
   "metadata": {},
   "outputs": [
    {
     "data": {
      "text/plain": [
       "-1.3074074072250141"
      ]
     },
     "execution_count": 160,
     "metadata": {},
     "output_type": "execute_result"
    }
   ],
   "source": [
    "df(1)"
   ]
  }
 ],
 "metadata": {
  "kernelspec": {
   "display_name": "base",
   "language": "python",
   "name": "python3"
  },
  "language_info": {
   "codemirror_mode": {
    "name": "ipython",
    "version": 3
   },
   "file_extension": ".py",
   "mimetype": "text/x-python",
   "name": "python",
   "nbconvert_exporter": "python",
   "pygments_lexer": "ipython3",
   "version": "3.11.5"
  }
 },
 "nbformat": 4,
 "nbformat_minor": 2
}
