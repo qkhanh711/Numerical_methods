{
 "cells": [
  {
   "cell_type": "markdown",
   "metadata": {},
   "source": [
    "# Week 2"
   ]
  },
  {
   "cell_type": "code",
   "execution_count": 2,
   "metadata": {},
   "outputs": [],
   "source": [
    "from Algs_scratch import *"
   ]
  },
  {
   "cell_type": "code",
   "execution_count": 3,
   "metadata": {},
   "outputs": [],
   "source": [
    "def func_x(x):\n",
    "    return - x**5 - 2*x + 1"
   ]
  },
  {
   "cell_type": "code",
   "execution_count": 4,
   "metadata": {},
   "outputs": [
    {
     "name": "stdout",
     "output_type": "stream",
     "text": [
      "CPU times: user 7 µs, sys: 1e+03 ns, total: 8 µs\n",
      "Wall time: 11.7 µs\n"
     ]
    }
   ],
   "source": [
    "%%time\n",
    "bisection(-2, 2, func_x)\n"
   ]
  },
  {
   "cell_type": "code",
   "execution_count": 5,
   "metadata": {},
   "outputs": [
    {
     "name": "stdout",
     "output_type": "stream",
     "text": [
      "CPU times: user 23 µs, sys: 4 µs, total: 27 µs\n",
      "Wall time: 31 µs\n"
     ]
    },
    {
     "data": {
      "text/plain": [
       "(0.486389035934543, 6)"
      ]
     },
     "execution_count": 5,
     "metadata": {},
     "output_type": "execute_result"
    }
   ],
   "source": [
    "%%time\n",
    "secant_method(func_x, 0, 0.2)"
   ]
  },
  {
   "cell_type": "code",
   "execution_count": 6,
   "metadata": {},
   "outputs": [
    {
     "name": "stdout",
     "output_type": "stream",
     "text": [
      "CPU times: user 27 µs, sys: 4 µs, total: 31 µs\n",
      "Wall time: 36 µs\n"
     ]
    },
    {
     "data": {
      "text/plain": [
       "(0.4863890252475381, 8)"
      ]
     },
     "execution_count": 6,
     "metadata": {},
     "output_type": "execute_result"
    }
   ],
   "source": [
    "%%time\n",
    "Newton_Raphson(func_x, 0.2)"
   ]
  },
  {
   "cell_type": "markdown",
   "metadata": {},
   "source": [
    "# Week 3"
   ]
  },
  {
   "cell_type": "markdown",
   "metadata": {},
   "source": [
    "## bruteforce or scipy.optimize"
   ]
  },
  {
   "cell_type": "code",
   "execution_count": 7,
   "metadata": {},
   "outputs": [],
   "source": [
    "import numpy as np\n",
    "import scipy.optimize as opt\n",
    "from scipy.optimize import minimize\n"
   ]
  },
  {
   "cell_type": "code",
   "execution_count": 8,
   "metadata": {},
   "outputs": [],
   "source": [
    "def f(x):\n",
    "    return x**6 - x**5 + x**4 - 7*x**3 + x**2 + x -5"
   ]
  },
  {
   "cell_type": "code",
   "execution_count": 9,
   "metadata": {},
   "outputs": [
    {
     "data": {
      "image/png": "[encoded data removed]",
      "text/plain": [
       "<Figure size 640x480 with 1 Axes>"
      ]
     },
     "metadata": {},
     "output_type": "display_data"
    }
   ],
   "source": [
    "def matplotlib_display():\n",
    "    import matplotlib.pyplot as plt \n",
    "    x = np.linspace(-2, 2, 100)\n",
    "    plt.plot(x, f(x))\n",
    "    plt.show()\n",
    "matplotlib_display()"
   ]
  },
  {
   "cell_type": "code",
   "execution_count": 10,
   "metadata": {},
   "outputs": [
    {
     "name": "stdout",
     "output_type": "stream",
     "text": [
      "Optimization terminated successfully.\n",
      "         Current function value: -5.105749\n",
      "         Iterations: 5\n",
      "         Function evaluations: 14\n",
      "         Gradient evaluations: 7\n",
      "  message: Optimization terminated successfully.\n",
      "  success: True\n",
      "   status: 0\n",
      "      fun: -5.105749483553248\n",
      "        x: [-1.729e-01]\n",
      "      nit: 5\n",
      "      jac: [-5.960e-08]\n",
      " hess_inv: [[ 1.024e-01]]\n",
      "     nfev: 14\n",
      "     njev: 7\n"
     ]
    }
   ],
   "source": [
    "minfx = minimize(f, 0, method='BFGS', options={'disp': True})\n",
    "minimizescalar = opt.minimize_scalar(f, method='brent')\n",
    "print(minfx)\n"
   ]
  },
  {
   "cell_type": "code",
   "execution_count": 11,
   "metadata": {},
   "outputs": [
    {
     "name": "stdout",
     "output_type": "stream",
     "text": [
      "\n",
      "    Newton-Raphson: \n",
      "          converged: True\n",
      "           flag: converged\n",
      " function_calls: 14\n",
      "     iterations: 7\n",
      "           root: 1.6351292084233693\n",
      "    \n",
      "CPU times: user 4.86 ms, sys: 144 µs, total: 5 ms\n",
      "Wall time: 4.62 ms\n"
     ]
    }
   ],
   "source": [
    "%%time\n",
    "def df(x):\n",
    "    return 6*x**5 - 5*x**4 + 4*x**3 - 21*x**2 + 2*x + 1\n",
    "    \n",
    "minfx = opt.root_scalar(df, method='newton', x0=1.4)\n",
    "print(f\"\"\"\n",
    "    Newton-Raphson: \n",
    "    {minfx}\n",
    "    \"\"\")"
   ]
  },
  {
   "cell_type": "code",
   "execution_count": 12,
   "metadata": {},
   "outputs": [],
   "source": [
    "def get_derivative_f(x, func, tol=1e-6):\n",
    "    return (func(x + tol) - func(x-tol)) / (2*tol)"
   ]
  },
  {
   "cell_type": "code",
   "execution_count": 13,
   "metadata": {},
   "outputs": [
    {
     "name": "stdout",
     "output_type": "stream",
     "text": [
      "CPU times: user 0 ns, sys: 2.78 ms, total: 2.78 ms\n",
      "Wall time: 1.9 ms\n"
     ]
    },
    {
     "data": {
      "text/plain": [
       "{'min': {'x': 1.631631631631631, 'y': -16.720848456833032},\n",
       " 'max': {'x': -10.0, 'y': 1117085.0}}"
      ]
     },
     "execution_count": 13,
     "metadata": {},
     "output_type": "execute_result"
    }
   ],
   "source": [
    "%%time\n",
    "def BruteForce(func, range, steps, tol=1e-6):\n",
    "    x = np.linspace(range[0], range[1], steps)\n",
    "    y = func(x)\n",
    "    min_index = np.argmin(y)\n",
    "    max_index = np.argmax(y)\n",
    "    x_min = x[min_index]\n",
    "    x_max = x[max_index]\n",
    "    return {\n",
    "        'min': {\n",
    "            'x': x_min,\n",
    "            'y': y[min_index]\n",
    "        },\n",
    "        'max': {\n",
    "            'x': x_max,\n",
    "            'y': y[max_index]\n",
    "        }\n",
    "    }\n",
    "\n",
    "BruteForce(f, [-10,10], 1000)"
   ]
  },
  {
   "cell_type": "markdown",
   "metadata": {},
   "source": [
    "## x = [x1,x2]\n",
    "\n",
    "$$\n",
    "x \\in \\left[ 0, 1 \\right]^2\n",
    "$$"
   ]
  },
  {
   "cell_type": "code",
   "execution_count": 14,
   "metadata": {},
   "outputs": [
    {
     "name": "stdout",
     "output_type": "stream",
     "text": [
      "[[0.34507169 0.52503626]\n",
      " [0.58539422 0.23633781]]\n",
      "[[0.36879038]\n",
      " [0.89460424]]\n",
      "[[0.27714369]]\n"
     ]
    }
   ],
   "source": [
    "A = np.random.rand(2,2)\n",
    "C = np.random.rand(2,1)\n",
    "D = np.random.rand(1,1)\n",
    "print(A)\n",
    "print(C)\n",
    "print(D)\n",
    "X = np.random.rand(2,1)"
   ]
  },
  {
   "cell_type": "code",
   "execution_count": 15,
   "metadata": {},
   "outputs": [
    {
     "data": {
      "text/plain": [
       "(1, 1)"
      ]
     },
     "execution_count": 15,
     "metadata": {},
     "output_type": "execute_result"
    }
   ],
   "source": [
    "def f(x):\n",
    "    return x.T @ A @ x + C.T @ x + D\n",
    "\n",
    "def test():\n",
    "    x=np.random.rand(2,1)\n",
    "    return x, f(x)\n",
    "\n",
    "def df(x, tol=1e-6):\n",
    "    return ((f(x + tol) - f(x-tol)) / (2*tol))\n",
    "df(X).shape"
   ]
  },
  {
   "cell_type": "code",
   "execution_count": 16,
   "metadata": {},
   "outputs": [
    {
     "name": "stderr",
     "output_type": "stream",
     "text": [
      "/tmp/ipykernel_7659/432769170.py:2: DeprecationWarning: scipy.misc.derivative is deprecated in SciPy v1.10.0; and will be completely removed in SciPy v1.12.0. You may consider using findiff: https://github.com/maroba/findiff or numdifftools: https://github.com/pbrod/numdifftools\n",
      "  misc.derivative(f, X)\n"
     ]
    },
    {
     "data": {
      "text/plain": [
       "array([[2.00048849]])"
      ]
     },
     "execution_count": 16,
     "metadata": {},
     "output_type": "execute_result"
    }
   ],
   "source": [
    "import scipy.misc as misc\n",
    "misc.derivative(f, X)"
   ]
  },
  {
   "cell_type": "code",
   "execution_count": 17,
   "metadata": {},
   "outputs": [
    {
     "name": "stdout",
     "output_type": "stream",
     "text": [
      "         Current function value: -128184.282825\n",
      "         Iterations: 2\n",
      "         Function evaluations: 351\n",
      "         Gradient evaluations: 113\n"
     ]
    },
    {
     "name": "stderr",
     "output_type": "stream",
     "text": [
      "/home/nyanmaruk/anaconda3/lib/python3.11/site-packages/scipy/optimize/_minimize.py:705: OptimizeWarning: Desired error not necessarily achieved due to precision loss.\n",
      "  res = _minimize_bfgs(fun, x0, args, jac, callback, **options)\n"
     ]
    }
   ],
   "source": [
    "minfx = opt.minimize(f, X.reshape(-1), method='BFGS', options={'disp': True})"
   ]
  },
  {
   "cell_type": "markdown",
   "metadata": {},
   "source": [
    "# Week4"
   ]
  },
  {
   "cell_type": "markdown",
   "metadata": {},
   "source": [
    "## find f'"
   ]
  },
  {
   "cell_type": "code",
   "execution_count": 18,
   "metadata": {},
   "outputs": [
    {
     "data": {
      "text/plain": [
       "7"
      ]
     },
     "execution_count": 18,
     "metadata": {},
     "output_type": "execute_result"
    }
   ],
   "source": [
    "n = np.random.randint(1, 10)\n",
    "n\n"
   ]
  },
  {
   "cell_type": "code",
   "execution_count": 19,
   "metadata": {},
   "outputs": [
    {
     "data": {
      "text/plain": [
       "array([0.15853167, 0.59988024, 0.46399917, 0.154855  , 0.43995431,\n",
       "       0.48908579, 0.53081184])"
      ]
     },
     "execution_count": 19,
     "metadata": {},
     "output_type": "execute_result"
    }
   ],
   "source": [
    "params = np.random.rand(n)\n",
    "params"
   ]
  },
  {
   "cell_type": "code",
   "execution_count": 20,
   "metadata": {},
   "outputs": [
    {
     "data": {
      "text/plain": [
       "array([[3, 8],\n",
       "       [2, 5],\n",
       "       [8, 1],\n",
       "       [5, 0],\n",
       "       [3, 4],\n",
       "       [1, 1],\n",
       "       [6, 0]])"
      ]
     },
     "execution_count": 20,
     "metadata": {},
     "output_type": "execute_result"
    }
   ],
   "source": [
    "coordinates = []\n",
    "for i in range(n):\n",
    "    x = np.random.randint(0,10) \n",
    "    y = np.random.randint(0,10)\n",
    "    coordinates.append((x,y))\n",
    "coordinates = np.array(coordinates)\n",
    "coordinates"
   ]
  },
  {
   "cell_type": "code",
   "execution_count": 21,
   "metadata": {},
   "outputs": [
    {
     "name": "stdout",
     "output_type": "stream",
     "text": [
      "[-9.30568407e+04  2.16353280e+05 -1.84297260e+05  7.51540298e+04\n",
      " -1.57031732e+04  1.61558891e+03 -6.46248897e+01]\n"
     ]
    },
    {
     "name": "stderr",
     "output_type": "stream",
     "text": [
      "/home/nyanmaruk/anaconda3/lib/python3.11/site-packages/scipy/optimize/_minpack_py.py:1010: OptimizeWarning: Covariance of the parameters could not be estimated\n",
      "  warnings.warn('Covariance of the parameters could not be estimated',\n"
     ]
    },
    {
     "data": {
      "image/png": "[encoded data removed]",
      "text/plain": [
       "<Figure size 640x480 with 1 Axes>"
      ]
     },
     "metadata": {},
     "output_type": "display_data"
    }
   ],
   "source": [
    "from scipy.optimize import curve_fit\n",
    "import matplotlib.pyplot as plt\n",
    "\n",
    "x = coordinates[:, 0]\n",
    "y = coordinates[:, 1]\n",
    "\n",
    "def target_function(x, *params):\n",
    "    # result_f = 0\n",
    "    # for i in range(len(params)):\n",
    "    #     result_f += params[i] * x**i\n",
    "    return sum([params[i] * x**i for i in range(len(params))])\n",
    "\n",
    "fit_params, pcov = curve_fit(target_function, x, y, p0=params.tolist())\n",
    "print(fit_params)\n",
    "\n",
    "x_new = np.linspace(min(x), max(x), 100)\n",
    "\n",
    "y_new = target_function(x_new, *fit_params)    # Create an coordinate\n",
    "\n",
    "\n",
    "plt.scatter(x, y)\n",
    "plt.plot(x_new, y_new, label='f(x)', color='red')\n",
    "plt.legend()\n",
    "plt.xlabel('X')\n",
    "plt.ylabel('Y')\n",
    "plt.show()"
   ]
  },
  {
   "cell_type": "code",
   "execution_count": 22,
   "metadata": {},
   "outputs": [],
   "source": [
    "def df(x, tol = 1e-6):\n",
    "    return ((target_function((x + tol), *fit_params) - target_function((x-tol), *fit_params)) / (2*tol))"
   ]
  },
  {
   "cell_type": "code",
   "execution_count": 23,
   "metadata": {},
   "outputs": [
    {
     "data": {
      "text/plain": [
       "18098.352333055347"
      ]
     },
     "execution_count": 23,
     "metadata": {},
     "output_type": "execute_result"
    }
   ],
   "source": [
    "df(1)"
   ]
  },
  {
   "cell_type": "markdown",
   "metadata": {},
   "source": [
    "## Homework"
   ]
  },
  {
   "cell_type": "markdown",
   "metadata": {},
   "source": [
    "ktra co phai toi uu loi khong (Check is convex)\n",
    "sd phuong phap roi rac hoa de giai\n",
    "$$\n",
    "    f_i(x_i) = x_i.\\log_2{(1+\\frac{a_i}{x_i})} + \\frac{1}{r_i}.\\log_2{(1 + b_i.x_i)}\n",
    "$$\n",
    "\n",
    "hai ham thanh phan deu phu thuoc vao 1 bien\n",
    "\n",
    "=> ap dung tong hai ham loi la ham loi\n",
    "\n",
    "=> chung minh cac ham thanh phan la loi\n",
    "\n",
    "ddf>0 la ham loi"
   ]
  },
  {
   "cell_type": "code",
   "execution_count": 24,
   "metadata": {},
   "outputs": [
    {
     "name": "stdout",
     "output_type": "stream",
     "text": [
      "Hessian Matrix:\n",
      "[[166.53345369]]\n",
      "         Current function value: nan\n",
      "         Iterations: 2\n",
      "         Function evaluations: 246\n",
      "         Gradient evaluations: 123\n"
     ]
    },
    {
     "name": "stderr",
     "output_type": "stream",
     "text": [
      "/tmp/ipykernel_7659/1492801064.py:5: RuntimeWarning: invalid value encountered in log2\n",
      "  return x*np.log2(a/x) + (1/r)*np.log2(1 + b*x)\n",
      "/tmp/ipykernel_7659/1492801064.py:5: RuntimeWarning: invalid value encountered in log2\n",
      "  return x*np.log2(a/x) + (1/r)*np.log2(1 + b*x)\n",
      "/home/nyanmaruk/anaconda3/lib/python3.11/site-packages/scipy/optimize/_minimize.py:705: OptimizeWarning: Desired error not necessarily achieved due to precision loss.\n",
      "  res = _minimize_bfgs(fun, x0, args, jac, callback, **options)\n"
     ]
    },
    {
     "data": {
      "text/plain": [
       "  message: Desired error not necessarily achieved due to precision loss.\n",
       "  success: False\n",
       "   status: 2\n",
       "      fun: nan\n",
       "        x: [-1.695e+05]\n",
       "      nit: 2\n",
       "      jac: [       nan]\n",
       " hess_inv: [[-1.705e+01]]\n",
       "     nfev: 246\n",
       "     njev: 123"
      ]
     },
     "execution_count": 24,
     "metadata": {},
     "output_type": "execute_result"
    }
   ],
   "source": [
    "import numpy as np\n",
    "from scipy.optimize import minimize\n",
    "\n",
    "def f(x, a, r, b):\n",
    "    return x*np.log2(a/x) + (1/r)*np.log2(1 + b*x)\n",
    "\n",
    "def df(x, a, r, b, tol=1e-6):\n",
    "    return ((f(x + tol, a, r, b) - f(x-tol, a, r, b)) / (2*tol))\n",
    "\n",
    "def df2(x, a, r, b, tol=1e-6):\n",
    "    return ((df(x + tol, a, r, b) - df(x-tol, a, r, b)) / (2*tol))\n",
    "\n",
    "a = np.random.rand()\n",
    "r = np.random.rand()\n",
    "b = np.random.rand()\n",
    "\n",
    "x0 = np.random.rand()\n",
    "x0\n",
    "def hessian_matrix(x, a, r, b, tol=1e-6):\n",
    "    hessian = np.zeros((1, 1))\n",
    "    f_x = df(x, a, r, b, tol)\n",
    "    f_x_plus_h = df(x + tol, a, r, b, tol)\n",
    "    f_x_minus_h = df(x - tol, a, r, b, tol)\n",
    "    second_derivative = (f_x_plus_h - 2 * f_x + f_x_minus_h) / (tol ** 2)\n",
    "    hessian[0, 0] = second_derivative\n",
    "    return hessian\n",
    "\n",
    "hessian_matrix_result = hessian_matrix(x0, a, r, b)\n",
    "print(\"Hessian Matrix:\")\n",
    "print(hessian_matrix_result)\n",
    "minfx = minimize(f, x0, args=(a, r, b), method='BFGS', options={'disp': True})\n",
    "minfx"
   ]
  },
  {
   "cell_type": "code",
   "execution_count": 25,
   "metadata": {},
   "outputs": [
    {
     "data": {
      "image/png": "[encoded data removed]",
      "text/plain": [
       "<Figure size 640x480 with 1 Axes>"
      ]
     },
     "metadata": {},
     "output_type": "display_data"
    }
   ],
   "source": [
    "def visualize():\n",
    "    import matplotlib.pyplot as plt\n",
    "    x = np.linspace(0.1, 10, 100)\n",
    "    plt.plot(x, f(x, a, r, b))\n",
    "    plt.plot(x, df(x, a, r, b))\n",
    "    plt.plot(x, df2(x, a, r, b))\n",
    "    plt.legend(['f(x)', 'df(x)', 'df2(x)'])\n",
    "    plt.show()\n",
    "visualize()"
   ]
  },
  {
   "cell_type": "markdown",
   "metadata": {},
   "source": [
    "## multi variables"
   ]
  },
  {
   "cell_type": "code",
   "execution_count": 26,
   "metadata": {},
   "outputs": [
    {
     "name": "stdout",
     "output_type": "stream",
     "text": [
      "6\n",
      "[0.91100122 0.80497881 0.02222821 0.26414309 0.99663471 0.12356062]\n"
     ]
    },
    {
     "name": "stderr",
     "output_type": "stream",
     "text": [
      "/home/nyanmaruk/anaconda3/lib/python3.11/site-packages/scipy/optimize/_minimize.py:576: RuntimeWarning: Method BFGS cannot handle constraints.\n",
      "  warn('Method %s cannot handle constraints.' % method,\n",
      "/tmp/ipykernel_7659/1492801064.py:5: RuntimeWarning: invalid value encountered in log2\n",
      "  return x*np.log2(a/x) + (1/r)*np.log2(1 + b*x)\n",
      "/tmp/ipykernel_7659/1492801064.py:5: RuntimeWarning: invalid value encountered in log2\n",
      "  return x*np.log2(a/x) + (1/r)*np.log2(1 + b*x)\n"
     ]
    },
    {
     "name": "stdout",
     "output_type": "stream",
     "text": [
      "         Current function value: nan\n",
      "         Iterations: 1\n",
      "         Function evaluations: 784\n",
      "         Gradient evaluations: 112\n"
     ]
    },
    {
     "name": "stderr",
     "output_type": "stream",
     "text": [
      "/tmp/ipykernel_7659/1492801064.py:5: RuntimeWarning: invalid value encountered in log2\n",
      "  return x*np.log2(a/x) + (1/r)*np.log2(1 + b*x)\n",
      "/home/nyanmaruk/anaconda3/lib/python3.11/site-packages/scipy/optimize/_minimize.py:705: OptimizeWarning: Desired error not necessarily achieved due to precision loss.\n",
      "  res = _minimize_bfgs(fun, x0, args, jac, callback, **options)\n"
     ]
    },
    {
     "data": {
      "text/plain": [
       "  message: Desired error not necessarily achieved due to precision loss.\n",
       "  success: False\n",
       "   status: 2\n",
       "      fun: nan\n",
       "        x: [-3.587e+02 -3.702e+02 -5.084e+02 -4.443e+02 -3.499e+02\n",
       "            -4.726e+02]\n",
       "      nit: 1\n",
       "      jac: [       nan        nan        nan        nan        nan\n",
       "                   nan]\n",
       " hess_inv: [[1 0 ... 0 0]\n",
       "            [0 1 ... 0 0]\n",
       "            ...\n",
       "            [0 0 ... 1 0]\n",
       "            [0 0 ... 0 1]]\n",
       "     nfev: 784\n",
       "     njev: 112"
      ]
     },
     "execution_count": 26,
     "metadata": {},
     "output_type": "execute_result"
    }
   ],
   "source": [
    "n = np.random.randint(1, 10)\n",
    "print(n)\n",
    "# n =1\n",
    "x0 = np.random.rand(n)\n",
    "a = np.random.rand(n)\n",
    "r = np.random.rand(n)\n",
    "b = np.random.rand(n)\n",
    "print(x0)\n",
    "\n",
    "def d_multi_variables(x,a,r,b):\n",
    "    return np.sum([f(xi,a,r,b) for xi in x])\n",
    "\n",
    "cons = [{'type': 'ineq', 'fun': lambda: d_multi_variables < 1.0},\n",
    "        {'type': 'ineq', 'fun': lambda: d_multi_variables > 0.001}]\n",
    "\n",
    "d_multi_variables(x0,a,r,b)\n",
    "minfx = minimize(d_multi_variables, x0, args=(a, r, b), method='BFGS'\n",
    "                 , options={'disp': True}, constraints=cons)\n",
    "minfx"
   ]
  },
  {
   "cell_type": "markdown",
   "metadata": {},
   "source": [
    "# Week5"
   ]
  },
  {
   "cell_type": "markdown",
   "metadata": {},
   "source": [
    "$$\n",
    "    \\sum_{i-1}^M ||f_i{(x_i)}||_p \\\\\n",
    "\\max  a^TX \\\\\n",
    "\\text{s.t } Ax <= b\n",
    "$$"
   ]
  },
  {
   "cell_type": "code",
   "execution_count": 27,
   "metadata": {},
   "outputs": [
    {
     "name": "stdout",
     "output_type": "stream",
     "text": [
      "Dimesion:  5\n",
      "Variables [0.39435012 0.3550061  0.36620083 0.61208957 0.8975575 ]\n",
      "Value of objective function 6.595907506259541\n",
      "Norm p:  7\n",
      "6.595907506259541\n"
     ]
    }
   ],
   "source": [
    "import numpy as np\n",
    "def f(x):\n",
    "    return x**2 + 1\n",
    "\n",
    "n = np.random.randint(1,10)\n",
    "print(\"Dimesion: \", n)\n",
    "X = np.random.rand(n)\n",
    "print(\"Variables\",X)\n",
    "func_values = np.array([f(x) for  x in X])\n",
    "print(\"Value of objective function\",sum(func_values))\n",
    "p = np.random.randint(1,10)\n",
    "print(\"Norm p: \",p)\n",
    "\n",
    "def Obj_func(X, func):\n",
    "    return np.sum([func(x) for x in X])\n",
    "print(Obj_func(X,f))\n",
    "\n"
   ]
  },
  {
   "cell_type": "code",
   "execution_count": 28,
   "metadata": {},
   "outputs": [
    {
     "data": {
      "text/plain": [
       "1.8677922232903859"
      ]
     },
     "execution_count": 28,
     "metadata": {},
     "output_type": "execute_result"
    }
   ],
   "source": [
    "np.linalg.norm(f(X),p)"
   ]
  },
  {
   "cell_type": "markdown",
   "metadata": {},
   "source": [
    "# Week6"
   ]
  },
  {
   "cell_type": "markdown",
   "metadata": {},
   "source": [
    "## Solve\n",
    "$$\\text{min }x^TQx$$ \n",
    "$$\\text{st } Ax \\leq b$$"
   ]
  },
  {
   "cell_type": "code",
   "execution_count": 60,
   "metadata": {},
   "outputs": [
    {
     "name": "stdout",
     "output_type": "stream",
     "text": [
      "Dimension: 2\n",
      "Variables: [0.59951448 0.79743766]\n"
     ]
    }
   ],
   "source": [
    "import numpy as np\n",
    "from scipy.optimize import minimize\n",
    "# seed = 10\n",
    "# np.random.seed(seed)\n",
    "\n",
    "n = np.random.randint(1, 10)\n",
    "n = 2\n",
    "print(\"Dimension:\", n)\n",
    "\n",
    "x = np.random.rand(n)\n",
    "print(\"Variables:\", x)\n",
    "\n",
    "Q = np.random.rand(n, n)\n",
    "def checkQ(Q):\n",
    "    if np.all(np.linalg.eigvals(Q) >= 0) and np.allclose(Q, Q.T):\n",
    "        return True\n",
    "    else:\n",
    "        return False\n",
    "# print(f\"Q is (semi) positive matrix {np.linalg.eigvals(Q)}\")\n",
    "\n",
    "while not checkQ(Q):\n",
    "    Q = np.random.rand(n, n)"
   ]
  },
  {
   "cell_type": "code",
   "execution_count": 65,
   "metadata": {},
   "outputs": [
    {
     "name": "stdout",
     "output_type": "stream",
     "text": [
      "f(x) = x^T Q x [[0.76688995 0.51437334]\n",
      " [0.5143715  0.53309526]] 1.1064503009122224\n",
      "(2,)\n",
      "Optimization terminated successfully    (Exit mode 0)\n",
      "            Current function value: 0.5318028806663619\n",
      "            Iterations: 4\n",
      "            Function evaluations: 12\n",
      "            Gradient evaluations: 4\n"
     ]
    }
   ],
   "source": [
    "cons = ({'type': 'ineq',\n",
    "            'fun': lambda x: np.array([np.sum(x) - 1]),\n",
    "            'jac': lambda x: np.array([1.0]*len(x))})\n",
    "print(\"f(x) = x^T Q x\", Q, f(x))\n",
    "print(x.shape)\n",
    "minfx = minimize(f, x, method='SLSQP', options={'disp': True}, constraints=cons)"
   ]
  },
  {
   "cell_type": "code",
   "execution_count": 62,
   "metadata": {},
   "outputs": [
    {
     "name": "stdout",
     "output_type": "stream",
     "text": [
      "------------------------Solve by scipy------------------------\n",
      "Optimization terminated successfully    (Exit mode 0)\n",
      "            Current function value: 0.5318028806663619\n",
      "            Iterations: 4\n",
      "            Function evaluations: 12\n",
      "            Gradient evaluations: 4\n",
      " message: Optimization terminated successfully\n",
      " success: True\n",
      "  status: 0\n",
      "     fun: 0.5318028806663619\n",
      "       x: [ 6.903e-02  9.310e-01]\n",
      "     nit: 4\n",
      "     jac: [ 1.064e+00  1.064e+00]\n",
      "    nfev: 12\n",
      "    njev: 4\n",
      "------------------------Solve by cvxpy------------------------\n",
      "0.5318028806686974\n",
      "------------------------Solve by gekko------------------------\n",
      "(0.53180288067, [0.069026731417, 0.93097326858])\n",
      "------------------------Solve by cvxopt------------------------\n",
      "     pcost       dcost       gap    pres   dres\n",
      " 0:  2.6590e-01  2.6590e-01  1e+00  1e+00  1e+00\n",
      " 1:  2.6590e-01  2.6590e-01  1e-02  1e-02  1e-02\n",
      " 2:  2.6590e-01  2.6590e-01  1e-04  1e-04  1e-04\n",
      " 3:  2.6590e-01  2.6590e-01  1e-06  1e-06  1e-06\n",
      " 4:  2.6590e-01  2.6590e-01  1e-08  1e-08  1e-08\n",
      "Optimal solution found.\n",
      "[ 6.90e-02]\n",
      "[ 9.31e-01]\n",
      "\n"
     ]
    }
   ],
   "source": [
    "def f(x):\n",
    "    \"\"\"Quy hoach toan phuong\"\"\"\n",
    "    return x.T @ Q @ x\n",
    "\n",
    "def solve(x, package):\n",
    "    if package == 'scipy':\n",
    "        cons = ({'type': 'ineq',\n",
    "                 'fun': lambda x: np.array([np.sum(x) - 1]),\n",
    "                 'jac': lambda x: np.array([1.0]*len(x))})\n",
    "        minfx = minimize(f, x, method='SLSQP', options={'disp': True}, constraints=cons)\n",
    "        return minfx\n",
    "    elif package == 'cvxpy':\n",
    "        import cvxpy as cp\n",
    "        y = cp.Variable(n)\n",
    "        objective = cp.Minimize(f(y))\n",
    "        constraints = [cp.sum(y) == 1]\n",
    "        prob = cp.Problem(objective, constraints)\n",
    "        result = prob.solve()\n",
    "        return result\n",
    "    elif package == 'gekko':\n",
    "        from gekko import GEKKO\n",
    "        m = GEKKO(remote=False)\n",
    "        x_1 = m.Var(value=x[0])\n",
    "        x_2 = m.Var(value=x[1])\n",
    "        m.Equation(x_1 + x_2 == 1)\n",
    "        def formulate(x_1,x_2, Q):\n",
    "            return x_1**2*Q[0,0] + x_1*x_2*Q[0,1] + x_2*x_1*Q[1,0] + x_2**2*Q[1,1]\n",
    "\n",
    "        m.Obj(formulate(x_1,x_2,Q))\n",
    "        m.solve(disp=False)\n",
    "        return m.options.OBJFCNVAL, [x_1.value[0], x_2.value[0]]\n",
    "    elif package == 'cvxopt':\n",
    "        from cvxopt import matrix, solvers\n",
    "        P = matrix(Q)\n",
    "        q = matrix(np.zeros((n, 1)))\n",
    "        G = matrix(np.ones((1, n)))\n",
    "        h = matrix(np.ones((1, 1)))\n",
    "        A = matrix(np.ones((1, n)))\n",
    "        b = matrix(np.ones((1, 1)))\n",
    "        sol = solvers.qp(P, q, G, h, A, b)\n",
    "        # print(sol['x'])\n",
    "        # print(sol)\n",
    "        return sol['x']\n",
    "    else:\n",
    "        raise ValueError(\"Package is not supported\")\n",
    "    \n",
    "\n",
    "import time\n",
    "start = time.time()\n",
    "print(\"------------------------Solve by scipy------------------------\")\n",
    "print(solve(x, 'scipy'))\n",
    "scipy_end = time.time()\n",
    "print(\"------------------------Solve by cvxpy------------------------\")\n",
    "print(solve(x, 'cvxpy'))\n",
    "cvxpy_end = time.time()\n",
    "print(\"------------------------Solve by gekko------------------------\")\n",
    "print(solve(x, 'gekko'))\n",
    "gekko_end = time.time()\n",
    "print(\"------------------------Solve by cvxopt------------------------\")\n",
    "print(solve(x, 'cvxopt'))\n",
    "cvxopt_end = time.time()"
   ]
  },
  {
   "cell_type": "code",
   "execution_count": 65,
   "metadata": {},
   "outputs": [],
   "source": [
    "# print(x_1.value, x_2.value)\n",
    "# print(m.options.OBJFCNVAL)"
   ]
  },
  {
   "cell_type": "code",
   "execution_count": 77,
   "metadata": {},
   "outputs": [
    {
     "name": "stdout",
     "output_type": "stream",
     "text": [
      "\n",
      "    Time to solve by scipy: 0.0030553340911865234\n",
      "    Time to solve by cvxpy: 0.011956214904785156\n",
      "    Time to solve by gekko: 0.04036092758178711\n",
      "    Time to solve by cvxopt: 0.0016486644744873047\n",
      "    \n"
     ]
    }
   ],
   "source": [
    "print(\n",
    "    \"\"\"\n",
    "    Time to solve by scipy: {}\n",
    "    Time to solve by cvxpy: {}\n",
    "    Time to solve by gekko: {}\n",
    "    Time to solve by cvxopt: {}\n",
    "    \"\"\".format(scipy_end - start, cvxpy_end - scipy_end, gekko_end - cvxpy_end, cvxopt_end - gekko_end)\n",
    ")"
   ]
  },
  {
   "cell_type": "code",
   "execution_count": 79,
   "metadata": {},
   "outputs": [
    {
     "name": "stdout",
     "output_type": "stream",
     "text": [
      "Optimization terminated successfully    (Exit mode 0)\n",
      "            Current function value: 0.08349017565203241\n",
      "            Iterations: 3\n",
      "            Function evaluations: 9\n",
      "            Gradient evaluations: 3\n",
      "     pcost       dcost       gap    pres   dres\n",
      " 0:  4.1745e-02  4.1745e-02  1e+00  1e+00  1e+00\n",
      " 1:  4.1745e-02  4.1745e-02  1e-02  1e-02  1e-02\n",
      " 2:  4.1745e-02  4.1745e-02  1e-04  1e-04  1e-04\n",
      " 3:  4.1745e-02  4.1745e-02  1e-06  1e-06  1e-06\n",
      " 4:  4.1745e-02  4.1745e-02  1e-08  1e-08  1e-08\n",
      "Optimal solution found.\n",
      "     pcost       dcost       gap    pres   dres\n",
      " 0:  4.1745e-02  4.1745e-02  1e+00  1e+00  1e+00\n",
      " 1:  4.1745e-02  4.1745e-02  1e-02  1e-02  1e-02\n",
      " 2:  4.1745e-02  4.1745e-02  1e-04  1e-04  1e-04\n",
      " 3:  4.1745e-02  4.1745e-02  1e-06  1e-06  1e-06\n",
      " 4:  4.1745e-02  4.1745e-02  1e-08  1e-08  1e-08\n",
      "Optimal solution found.\n",
      "{'scipy': 0.08349017565203241, 'cvxpy': 0.08349010316978102, 'gekko': 0.083490103168, 'cvxopt': array([[0.0834901]])}\n"
     ]
    }
   ],
   "source": [
    "optimal_value = {\n",
    "    \"scipy\": solve(x, 'scipy').fun,\n",
    "    \"cvxpy\": solve(x, 'cvxpy'),\n",
    "    \"gekko\": solve(x, 'gekko')[0],\n",
    "    \"cvxopt\": solve(x, 'cvxopt').T @ Q @ solve(x, 'cvxopt')\n",
    "}\n",
    "\n",
    "print(optimal_value)"
   ]
  },
  {
   "cell_type": "code",
   "execution_count": 74,
   "metadata": {},
   "outputs": [
    {
     "name": "stdout",
     "output_type": "stream",
     "text": [
      "Optimization terminated successfully    (Exit mode 0)\n",
      "            Current function value: 0.08349017565203241\n",
      "            Iterations: 3\n",
      "            Function evaluations: 9\n",
      "            Gradient evaluations: 3\n",
      "     pcost       dcost       gap    pres   dres\n",
      " 0:  4.1745e-02  4.1745e-02  1e+00  1e+00  1e+00\n",
      " 1:  4.1745e-02  4.1745e-02  1e-02  1e-02  1e-02\n",
      " 2:  4.1745e-02  4.1745e-02  1e-04  1e-04  1e-04\n",
      " 3:  4.1745e-02  4.1745e-02  1e-06  1e-06  1e-06\n",
      " 4:  4.1745e-02  4.1745e-02  1e-08  1e-08  1e-08\n",
      "Optimal solution found.\n",
      "[-2.89e-01]\n",
      "[ 1.29e+00]\n",
      "\n",
      "{'x': <2x1 matrix, tc='d'>, 'y': <1x1 matrix, tc='d'>, 's': <1x1 matrix, tc='d'>, 'z': <1x1 matrix, tc='d'>, 'status': 'optimal', 'gap': 1.0000000002765356e-08, 'relative gap': 2.395480988044613e-07, 'primal objective': 0.04174526975030653, 'dual objective': 0.041745269750306686, 'primal infeasibility': 1.0000000161269895e-08, 'dual infeasibility': 1.4142135694791778e-08, 'primal slack': 1.0000000000000037e-08, 'dual slack': 1.000000000276532, 'iterations': 4}\n",
      "     pcost       dcost       gap    pres   dres\n",
      " 0:  4.1745e-02  4.1745e-02  1e+00  1e+00  1e+00\n",
      " 1:  4.1745e-02  4.1745e-02  1e-02  1e-02  1e-02\n",
      " 2:  4.1745e-02  4.1745e-02  1e-04  1e-04  1e-04\n",
      " 3:  4.1745e-02  4.1745e-02  1e-06  1e-06  1e-06\n",
      " 4:  4.1745e-02  4.1745e-02  1e-08  1e-08  1e-08\n",
      "Optimal solution found.\n",
      "[-2.89e-01]\n",
      "[ 1.29e+00]\n",
      "\n",
      "{'x': <2x1 matrix, tc='d'>, 'y': <1x1 matrix, tc='d'>, 's': <1x1 matrix, tc='d'>, 'z': <1x1 matrix, tc='d'>, 'status': 'optimal', 'gap': 1.0000000002765356e-08, 'relative gap': 2.395480988044613e-07, 'primal objective': 0.04174526975030653, 'dual objective': 0.041745269750306686, 'primal infeasibility': 1.0000000161269895e-08, 'dual infeasibility': 1.4142135694791778e-08, 'primal slack': 1.0000000000000037e-08, 'dual slack': 1.000000000276532, 'iterations': 4}\n",
      "{'scipy': array([-0.28884146,  1.28884146]), 'cvxpy': 0.08349010316978102, 'gekko': [-0.28924895111, 1.2892489511], 'cvxopt': [-0.2892468356298458, 1.2892468356298459]}\n"
     ]
    }
   ],
   "source": [
    "optimal_point = {\n",
    "    \"scipy\": solve(x, 'scipy').x,\n",
    "    \"cvxpy\": solve(x, 'cvxpy'),\n",
    "    \"gekko\": solve(x, 'gekko')[1],\n",
    "    \"cvxopt\": [solve(x, 'cvxopt')[0], solve(x, 'cvxopt')[1]]\n",
    "}\n",
    "\n",
    "print(optimal_point)"
   ]
  },
  {
   "cell_type": "code",
   "execution_count": 3,
   "metadata": {},
   "outputs": [
    {
     "name": "stdout",
     "output_type": "stream",
     "text": [
      "Is all elements semi-positive? True\n"
     ]
    }
   ],
   "source": [
    "# import numpy as np\n",
    "arr = np.array([1, 2, 3, 1, 0.5])  # Example array\n",
    "is_semi_positive = np.all(np.greater_equal(arr, 0))\n",
    "print(f\"Is all elements semi-positive? {is_semi_positive}\")\n"
   ]
  },
  {
   "cell_type": "code",
   "execution_count": 89,
   "metadata": {},
   "outputs": [
    {
     "name": "stdout",
     "output_type": "stream",
     "text": [
      "------------------------Solve by scipy------------------------\n",
      "Optimization terminated successfully    (Exit mode 0)\n",
      "            Current function value: 0.08349017565203241\n",
      "            Iterations: 3\n",
      "            Function evaluations: 9\n",
      "            Gradient evaluations: 3\n",
      " message: Optimization terminated successfully\n",
      " success: True\n",
      "  status: 0\n",
      "     fun: 0.08349017565203241\n",
      "       x: [-2.888e-01  1.289e+00]\n",
      "     nit: 3\n",
      "     jac: [ 1.674e-01  1.671e-01]\n",
      "    nfev: 9\n",
      "    njev: 3\n",
      "------------------------Solve by cvxpy------------------------\n",
      "0.08349010316978102\n",
      "------------------------Solve by gekko------------------------\n",
      "(0.083490103168, [-0.28924895111, 1.2892489511])\n",
      "------------------------Solve by cvxopt------------------------\n",
      "     pcost       dcost       gap    pres   dres\n",
      " 0:  4.1745e-02  4.1745e-02  1e+00  1e+00  1e+00\n",
      " 1:  4.1745e-02  4.1745e-02  1e-02  1e-02  1e-02\n",
      " 2:  4.1745e-02  4.1745e-02  1e-04  1e-04  1e-04\n",
      " 3:  4.1745e-02  4.1745e-02  1e-06  1e-06  1e-06\n",
      " 4:  4.1745e-02  4.1745e-02  1e-08  1e-08  1e-08\n",
      "Optimal solution found.\n",
      "[-2.89e-01]\n",
      "[ 1.29e+00]\n",
      "\n",
      "Optimization terminated successfully    (Exit mode 0)\n",
      "            Current function value: 0.08349017565203241\n",
      "            Iterations: 3\n",
      "            Function evaluations: 9\n",
      "            Gradient evaluations: 3\n",
      "     pcost       dcost       gap    pres   dres\n",
      " 0:  4.1745e-02  4.1745e-02  1e+00  1e+00  1e+00\n",
      " 1:  4.1745e-02  4.1745e-02  1e-02  1e-02  1e-02\n",
      " 2:  4.1745e-02  4.1745e-02  1e-04  1e-04  1e-04\n",
      " 3:  4.1745e-02  4.1745e-02  1e-06  1e-06  1e-06\n",
      " 4:  4.1745e-02  4.1745e-02  1e-08  1e-08  1e-08\n",
      "Optimal solution found.\n",
      "     pcost       dcost       gap    pres   dres\n",
      " 0:  4.1745e-02  4.1745e-02  1e+00  1e+00  1e+00\n",
      " 1:  4.1745e-02  4.1745e-02  1e-02  1e-02  1e-02\n",
      " 2:  4.1745e-02  4.1745e-02  1e-04  1e-04  1e-04\n",
      " 3:  4.1745e-02  4.1745e-02  1e-06  1e-06  1e-06\n",
      " 4:  4.1745e-02  4.1745e-02  1e-08  1e-08  1e-08\n",
      "Optimal solution found.\n",
      "Optimization terminated successfully    (Exit mode 0)\n",
      "            Current function value: 0.08349017565203241\n",
      "            Iterations: 3\n",
      "            Function evaluations: 9\n",
      "            Gradient evaluations: 3\n",
      "     pcost       dcost       gap    pres   dres\n",
      " 0:  4.1745e-02  4.1745e-02  1e+00  1e+00  1e+00\n",
      " 1:  4.1745e-02  4.1745e-02  1e-02  1e-02  1e-02\n",
      " 2:  4.1745e-02  4.1745e-02  1e-04  1e-04  1e-04\n",
      " 3:  4.1745e-02  4.1745e-02  1e-06  1e-06  1e-06\n",
      " 4:  4.1745e-02  4.1745e-02  1e-08  1e-08  1e-08\n",
      "Optimal solution found.\n",
      "     pcost       dcost       gap    pres   dres\n",
      " 0:  4.1745e-02  4.1745e-02  1e+00  1e+00  1e+00\n",
      " 1:  4.1745e-02  4.1745e-02  1e-02  1e-02  1e-02\n",
      " 2:  4.1745e-02  4.1745e-02  1e-04  1e-04  1e-04\n",
      " 3:  4.1745e-02  4.1745e-02  1e-06  1e-06  1e-06\n",
      " 4:  4.1745e-02  4.1745e-02  1e-08  1e-08  1e-08\n",
      "Optimal solution found.\n"
     ]
    }
   ],
   "source": [
    "class Solver():\n",
    "    def __init__(self, x, Q, package='scipy'):\n",
    "        self.x = x\n",
    "        self.Q = Q\n",
    "        self.package = package\n",
    "\n",
    "    def checkQ(self):\n",
    "        if np.all(np.linalg.eigvals(self.Q) >= 0) and np.allclose(self.Q, self.Q.T):\n",
    "            return True\n",
    "        else:\n",
    "            return False\n",
    "        \n",
    "    def f(self):\n",
    "        \"\"\"Quy hoach toan phuong\"\"\"\n",
    "        return self.x.T @ self.Q @ self.x\n",
    "    \n",
    "    def solve(self):\n",
    "        if self.package == 'scipy':\n",
    "            cons = ({'type': 'ineq',\n",
    "                     'fun': lambda x: np.array([np.sum(x) - 1]),\n",
    "                     'jac': lambda x: np.array([1.0]*len(x))})\n",
    "            minfx = minimize(self.f, self.x, method='SLSQP', options={'disp': True}, constraints=cons)\n",
    "            return minfx\n",
    "        elif self.package == 'cvxpy':\n",
    "            import cvxpy as cp\n",
    "            y = cp.Variable(n)\n",
    "            objective = cp.Minimize(self.f(y))\n",
    "            constraints = [cp.sum(y) == 1]\n",
    "            prob = cp.Problem(objective, constraints)\n",
    "            result = prob.solve()\n",
    "            return result\n",
    "        elif self.package == 'gekko':\n",
    "            from gekko import GEKKO\n",
    "            m = GEKKO(remote = False)\n",
    "            x_1 = m.Var(value = self.x[0])\n",
    "            x_2 = m.Var(value = self.x[1])\n",
    "            m.Equation(x_1 + x_2 == 1)\n",
    "            def formulate(x_1,x_2, Q):\n",
    "                return x_1**2*Q[0,0] + x_1*x_2*Q[0,1] + x_2*x_1*Q[1,0] + x_2**2*Q[1,1]\n",
    "            m.Obj(formulate(x_1,x_2,self.Q))\n",
    "            m.solve(disp = False)\n",
    "            return m.options.OBJFCNVAL, [x_1.value[0], x_2.value[0]]\n",
    " \n",
    "        elif self.package == 'cvxopt':\n",
    "            from cvxopt import matrix, solvers\n",
    "            P = matrix(self.Q)\n",
    "            q = matrix(np.zeros((n, 1)))\n",
    "            G = matrix(np.ones((1, n)))\n",
    "            h = matrix(np.ones((1, 1)))\n",
    "            A = matrix(np.ones((1, n)))\n",
    "            b = matrix(np.ones((1, 1)))\n",
    "            sol = solvers.qp(P, q, G, h, A, b)\n",
    "            return sol['x']\n",
    "        else:\n",
    "            raise ValueError(\"Package is not supported\")\n",
    "    \n",
    "    def time_to_solve(self):\n",
    "        import time\n",
    "        start = time.time()\n",
    "        self.solve(self.package)\n",
    "        end = time.time()\n",
    "        return end - start\n",
    "    \n",
    "    def compare_time(self):\n",
    "        import time\n",
    "        start = time.time()\n",
    "        print(\"------------------------Solve by scipy------------------------\")\n",
    "        print(solve(x,'scipy'))\n",
    "        scipy_end = time.time()\n",
    "        print(\"------------------------Solve by cvxpy------------------------\")\n",
    "        print(solve(x,'cvxpy'))\n",
    "        cvxpy_end = time.time()\n",
    "        print(\"------------------------Solve by gekko------------------------\")\n",
    "        print(solve(x,'gekko'))\n",
    "        gekko_end = time.time()\n",
    "        print(\"------------------------Solve by cvxopt------------------------\")\n",
    "        print(solve(x,'cvxopt'))\n",
    "        cvxopt_end = time.time()\n",
    "\n",
    "        time_cal = {\n",
    "            \"scipy\": scipy_end - start,\n",
    "            \"cvxpy\": cvxpy_end - scipy_end,\n",
    "            \"gekko\": gekko_end - cvxpy_end,\n",
    "            \"cvxopt\": cvxopt_end - gekko_end\n",
    "        }\n",
    "\n",
    "        optimal_value = {\n",
    "            \"scipy\": solve(x,'scipy').fun,\n",
    "            \"cvxpy\": solve(x,'cvxpy'),\n",
    "            \"gekko\": solve(x,'gekko')[0],\n",
    "            \"cvxopt\":solve(x,'cvxopt').T @ self.Q @ solve(x,'cvxopt')\n",
    "        }\n",
    "\n",
    "        optimal_point = {\n",
    "            \"scipy\": solve(x,'scipy').x,\n",
    "            \"cvxpy\": solve(x,'cvxpy'),\n",
    "            \"gekko\": solve(x,'gekko')[1],\n",
    "            \"cvxopt\": [solve(x,'cvxopt')[0], solve(x,'cvxopt')[1]]\n",
    "        }\n",
    "\n",
    "        return {\"Time to solve\": time_cal,\n",
    "                \"Optimal value\": optimal_value,\n",
    "                \"Optimal Point\": optimal_point}\n",
    "    \n",
    "    def visualize(self):\n",
    "        import matplotlib.pyplot as plt\n",
    "        x = np.linspace(0.1, 10, 100)\n",
    "        plt.plot(x, self.f(x))\n",
    "        plt.plot(x, self.df(x))\n",
    "        plt.plot(x, self.df2(x))\n",
    "        plt.legend(['f(x)', 'df(x)', 'df2(x)'])\n",
    "        plt.show()\n",
    "\n",
    "Solvers = Solver(x, Q, package='scipy')\n",
    "results = Solvers.compare_time()\n"
   ]
  },
  {
   "cell_type": "code",
   "execution_count": 90,
   "metadata": {},
   "outputs": [
    {
     "data": {
      "text/plain": [
       "{'Time to solve': {'scipy': 0.004976987838745117,\n",
       "  'cvxpy': 0.01068878173828125,\n",
       "  'gekko': 0.04308462142944336,\n",
       "  'cvxopt': 0.0015022754669189453},\n",
       " 'Optimal value': {'scipy': 0.08349017565203241,\n",
       "  'cvxpy': 0.08349010316978102,\n",
       "  'gekko': 0.083490103168,\n",
       "  'cvxopt': array([[0.0834901]])},\n",
       " 'Optimal Point': {'scipy': array([-0.28884146,  1.28884146]),\n",
       "  'cvxpy': 0.08349010316978102,\n",
       "  'gekko': [-0.28924895111, 1.2892489511],\n",
       "  'cvxopt': [-0.2892468356298458, 1.2892468356298459]}}"
      ]
     },
     "execution_count": 90,
     "metadata": {},
     "output_type": "execute_result"
    }
   ],
   "source": [
    "results"
   ]
  },
  {
   "cell_type": "markdown",
   "metadata": {},
   "source": [
    "# week 8"
   ]
  },
  {
   "cell_type": "markdown",
   "metadata": {},
   "source": [
    "## ex.\n",
    "\n",
    "$\\text{max } min_{i = 1,...,N} log_2 \\frac{a_i^Tx}{b_i^Tx} (a_i,b_i \\geq 0) $\n",
    "\n",
    "$  s.t. Ax \\leq b $\n",
    "\n",
    "$  x \\geq 0 $\n",
    "\n",
    "\n",
    "## solution => max T\n",
    "\n",
    "s.t. $ log_2\\frac{a_i^Tx}{b_i^Tx} \\geq T$\n",
    "\n",
    "$  Ax \\leq b $\n",
    "\n",
    "$  x \\geq 0 $"
   ]
  },
  {
   "cell_type": "code",
   "execution_count": 162,
   "metadata": {},
   "outputs": [
    {
     "name": "stdout",
     "output_type": "stream",
     "text": [
      "7 9\n"
     ]
    }
   ],
   "source": [
    "import numpy as np \n",
    "N = np.random.randint(1,10)\n",
    "M = np.random.randint(1,10)\n",
    "print(N,M)\n",
    "A = np.random.rand(M,N)\n",
    "B = np.random.rand(N,1)\n",
    "B = B.ravel()\n"
   ]
  },
  {
   "cell_type": "code",
   "execution_count": 235,
   "metadata": {},
   "outputs": [
    {
     "name": "stdout",
     "output_type": "stream",
     "text": [
      "\n",
      "    Matrix A shape: (9, 7)\n",
      "    Matrix B shape: (7,)\n",
      "    Vector a shape: (9,)\n",
      "    Vector b shape: (9,)\n",
      "    Vector x shape: (9,)\n",
      "\n"
     ]
    }
   ],
   "source": [
    "a = np.random.rand(M)\n",
    "b = np.random.rand(M)\n",
    "x = np.random.rand(M)\n",
    "print(f\"\"\"\n",
    "    Matrix A shape: {A.shape}\n",
    "    Matrix B shape: {B.shape}\n",
    "    Vector a shape: {a.shape}\n",
    "    Vector b shape: {b.shape}\n",
    "    Vector x shape: {x.shape}\n",
    "\"\"\")\n"
   ]
  },
  {
   "cell_type": "code",
   "execution_count": 239,
   "metadata": {},
   "outputs": [
    {
     "name": "stdout",
     "output_type": "stream",
     "text": [
      "-0.5411863919752093\n"
     ]
    }
   ],
   "source": [
    "from scipy.optimize import minimize\n",
    "import numpy as np\n",
    "\n",
    "def func(x, a, b):\n",
    "    return np.log2(np.divide(np.dot(a.T, x),np.dot(b.T, x)))\n",
    "\n",
    "T = np.random.rand()\n",
    "\n",
    "print(\n",
    "func(x,a,b)\n",
    ")\n",
    "\n",
    "cons = (\n",
    "    {'type': 'ineq', 'fun': lambda x: func(x, a, b) - T},\n",
    "    {'type': 'ineq', 'fun': lambda x: np.dot(A.T, x) - B},\n",
    "    {'type': 'ineq', 'fun': lambda x: x})\n",
    "\n",
    "res = minimize(func, x, args=(a, b), constraints=cons)"
   ]
  },
  {
   "cell_type": "code",
   "execution_count": 240,
   "metadata": {},
   "outputs": [
    {
     "name": "stdout",
     "output_type": "stream",
     "text": [
      " message: Optimization terminated successfully\n",
      " success: True\n",
      "  status: 0\n",
      "     fun: 0.884206711914999\n",
      "       x: [ 4.849e-01  1.383e+00  5.720e-04  1.777e-01  4.068e-01\n",
      "            9.658e-01  8.355e-04  5.527e-01  1.083e+00]\n",
      "     nit: 5\n",
      "     jac: [-2.985e-01  2.516e-01 -4.123e-01 -6.740e-01 -2.155e-01\n",
      "           -2.258e-01 -5.884e-01  1.132e-02  2.002e-01]\n",
      "    nfev: 50\n",
      "    njev: 5\n"
     ]
    }
   ],
   "source": [
    "print(res)"
   ]
  },
  {
   "cell_type": "code",
   "execution_count": 234,
   "metadata": {},
   "outputs": [
    {
     "data": {
      "text/plain": [
       "-0.49043335145"
      ]
     },
     "execution_count": 234,
     "metadata": {},
     "output_type": "execute_result"
    }
   ],
   "source": [
    "from gekko import GEKKO\n",
    "\n",
    "m = GEKKO(remote=False)\n",
    "x_1 = m.Var(value=x[0])\n",
    "x_2 = m.Var(value=x[1])\n",
    "m.Equation(x_1 + x_2 == 1)\n",
    "def formulate(a, b):\n",
    "    return np.log2(np.divide(np.dot(a.T, x),np.dot(b.T, x)))\n",
    "\n",
    "m.Obj(formulate(a,b))\n",
    "m.solve(disp=False)\n",
    "m.options.OBJFCNVAL"
   ]
  },
  {
   "cell_type": "code",
   "execution_count": 1,
   "metadata": {},
   "outputs": [],
   "source": [
    "# convexification"
   ]
  },
  {
   "cell_type": "markdown",
   "metadata": {},
   "source": [
    "# min||A - VM||\n",
    "$\n",
    "A_{mxn} = V_{nxk}. N_{kxm}\n",
    "$"
   ]
  },
  {
   "cell_type": "code",
   "execution_count": 7,
   "metadata": {},
   "outputs": [
    {
     "name": "stdout",
     "output_type": "stream",
     "text": [
      "Error:  19.540842188046206\n",
      "Error:  0.07636890268362528\n"
     ]
    },
    {
     "name": "stderr",
     "output_type": "stream",
     "text": [
      "/home/nyanmaruk/anaconda3/lib/python3.11/site-packages/sklearn/decomposition/_nmf.py:1770: ConvergenceWarning: Maximum number of iterations 200 reached. Increase it to improve convergence.\n",
      "  warnings.warn(\n"
     ]
    }
   ],
   "source": [
    "import numpy as np\n",
    "n_samples, n_features = 100, 50\n",
    "A = np.random.rand(n_samples, n_features)\n",
    "# A = np.random.randint(-1, 2, (n_samples, n_features))\n",
    "from sklearn.decomposition import NMF\n",
    "model = NMF(n_components=2, init='random', random_state=42)\n",
    "W = model.fit_transform(A)\n",
    "H = model.components_\n",
    "\n",
    "original_space = np.dot(W, H)\n",
    "\n",
    "print(\"Error: \", np.linalg.norm(A - original_space))\n",
    "from sklearn.metrics import mean_squared_error\n",
    "print(\"Error: \", mean_squared_error(A, original_space))"
   ]
  },
  {
   "cell_type": "code",
   "execution_count": 5,
   "metadata": {},
   "outputs": [
    {
     "name": "stdout",
     "output_type": "stream",
     "text": [
      "Error:  54.71711300502358\n",
      "Error:  0.5987924911209039\n"
     ]
    }
   ],
   "source": [
    "def NMF(A, n_components, max_iter=1000, tol=1e-6):\n",
    "    n_samples, n_features = A.shape\n",
    "    W = np.random.rand(n_samples, n_components)\n",
    "    H = np.random.rand(n_components, n_features)\n",
    "    for i in range(max_iter):\n",
    "        H = H * (W.T @ A) / (W.T @ W @ H)\n",
    "        W = W * (A @ H.T) / (W @ H @ H.T)\n",
    "        if np.linalg.norm(A - W @ H) < tol:\n",
    "            break\n",
    "    return W, H\n",
    "\n",
    "W, H = NMF(A, 2)\n",
    "print(\"Error: \", np.linalg.norm(A - W @ H))\n",
    "print(\"Error: \", mean_squared_error(A, W @ H))"
   ]
  },
  {
   "cell_type": "code",
   "execution_count": 4,
   "metadata": {},
   "outputs": [
    {
     "name": "stdout",
     "output_type": "stream",
     "text": [
      "Error:  1.4089374458157272e-13\n",
      "Error:  1.9851047262217452e-30\n"
     ]
    }
   ],
   "source": [
    "A = np.random.rand(100, 50)\n",
    "A = np.random.randint(-1, 2, (100, 50))\n",
    "A_padding = np.pad(A, ((0, 0), (0, A.shape[1])), 'constant')\n",
    "S, V, D = np.linalg.svd(A_padding)\n",
    "# print(S.shape)\n",
    "# print(V.shape)\n",
    "# print(D.shape)\n",
    "A_reconstruct = S @ np.diag(V) @ D\n",
    "\n",
    "print(\"Error: \", np.linalg.norm(A_padding - A_reconstruct))\n",
    "print(\"Error: \", mean_squared_error(A_padding, A_reconstruct))"
   ]
  },
  {
   "cell_type": "code",
   "execution_count": 54,
   "metadata": {},
   "outputs": [
    {
     "data": {
      "text/plain": [
       "{'SVD': (9.530017485140003e-14, 9.082123326707419e-31),\n",
       " 'NMF': (19.242655605523407, 0.07405595895055629)}"
      ]
     },
     "execution_count": 54,
     "metadata": {},
     "output_type": "execute_result"
    }
   ],
   "source": [
    "class Non_negative_Matrix_Factorization():\n",
    "    def __init__(self, A, n_components, max_iter=1000, tol=1e-6):\n",
    "        self.A = A\n",
    "        self.n_components = n_components\n",
    "        self.max_iter = max_iter\n",
    "        self.tol = tol\n",
    "\n",
    "    def fit(self):\n",
    "        n_samples, n_features = self.A.shape\n",
    "        W = np.random.rand(n_samples, self.n_components)\n",
    "        H = np.random.rand(self.n_components, n_features)\n",
    "        for i in range(self.max_iter):\n",
    "            H = H * (W.T @ self.A) / (W.T @ W @ H)\n",
    "            W = W * (self.A @ H.T) / (W @ H @ H.T)\n",
    "            if np.linalg.norm(self.A - W @ H) < self.tol:\n",
    "                break\n",
    "        return W, H\n",
    "\n",
    "    def reconstruct(self, W, H):\n",
    "        return W @ H\n",
    "\n",
    "    def error(self, A, A_reconstruct):\n",
    "        return np.linalg.norm(A - A_reconstruct), mean_squared_error(A, A_reconstruct)\n",
    "    \n",
    "    def padding(self, A):\n",
    "        return np.pad(A, ((0, 0), (0, A.shape[1])), 'constant')\n",
    "    \n",
    "    def svd(self, A):\n",
    "        return np.linalg.svd(A)\n",
    "    \n",
    "    def reconstruct_svd(self, S, V, D):\n",
    "        return S @ np.diag(V) @ D\n",
    "    \n",
    "    def error_svd(self, A_padding, A_reconstruct):\n",
    "        return np.linalg.norm(A_padding - A_reconstruct), mean_squared_error(A_padding, A_reconstruct)\n",
    "    \n",
    "    def fit_transform(self):\n",
    "        W, H = self.fit()\n",
    "        A_padding = self.padding(self.A)\n",
    "        S, V, D = self.svd(A_padding)\n",
    "        A_reconstruct = self.reconstruct_svd(S, V, D)\n",
    "        return self.error_svd(A_padding, A_reconstruct)\n",
    "    \n",
    "    def visualize(self):\n",
    "        import matplotlib.pyplot as plt\n",
    "        x = np.linspace(0.1, 10, 100)\n",
    "        plt.plot(x, self.f(x))\n",
    "        plt.plot(x, self.df(x))\n",
    "        plt.plot(x, self.df2(x))\n",
    "        plt.legend(['f(x)', 'df(x)', 'df2(x)'])\n",
    "        plt.show()\n",
    "    \n",
    "    def compare(self):\n",
    "        \"\"\"Compare SVD and NMF\"\"\"\n",
    "        W, H = self.fit()\n",
    "        A_padding = self.padding(self.A)\n",
    "        S, V, D = self.svd(A_padding)\n",
    "        A_reconstruct = self.reconstruct_svd(S, V, D)\n",
    "        error_svd = self.error_svd(A_padding, A_reconstruct)\n",
    "        error_nmf = self.error(self.A, W @ H)\n",
    "        return {\"SVD\": error_svd, \"NMF\": error_nmf}\n",
    "\n",
    "NMF = Non_negative_Matrix_Factorization(A, 2)\n",
    "\n",
    "\n",
    "NMF.compare()\n"
   ]
  }
 ],
 "metadata": {
  "kernelspec": {
   "display_name": "base",
   "language": "python",
   "name": "python3"
  },
  "language_info": {
   "codemirror_mode": {
    "name": "ipython",
    "version": 3
   },
   "file_extension": ".py",
   "mimetype": "text/x-python",
   "name": "python",
   "nbconvert_exporter": "python",
   "pygments_lexer": "ipython3",
   "version": "3.1.0"
  }
 },
 "nbformat": 4,
 "nbformat_minor": 2
}
