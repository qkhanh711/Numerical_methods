{
 "cells": [
  {
   "cell_type": "markdown",
   "metadata": {},
   "source": [
    "# Week 2"
   ]
  },
  {
   "cell_type": "code",
   "execution_count": 52,
   "metadata": {},
   "outputs": [],
   "source": [
    "from Algs_scratch import *"
   ]
  },
  {
   "cell_type": "code",
   "execution_count": 53,
   "metadata": {},
   "outputs": [],
   "source": [
    "def func_x(x):\n",
    "    return - x**5 - 2*x + 1"
   ]
  },
  {
   "cell_type": "code",
   "execution_count": 54,
   "metadata": {},
   "outputs": [
    {
     "name": "stdout",
     "output_type": "stream",
     "text": [
      "CPU times: user 3 µs, sys: 0 ns, total: 3 µs\n",
      "Wall time: 6.2 µs\n"
     ]
    }
   ],
   "source": [
    "%%time\n",
    "bisection(-2, 2, func_x)\n"
   ]
  },
  {
   "cell_type": "code",
   "execution_count": 55,
   "metadata": {},
   "outputs": [
    {
     "name": "stdout",
     "output_type": "stream",
     "text": [
      "CPU times: user 11 µs, sys: 0 ns, total: 11 µs\n",
      "Wall time: 13.4 µs\n"
     ]
    },
    {
     "data": {
      "text/plain": [
       "(0.486389035934543, 6)"
      ]
     },
     "execution_count": 55,
     "metadata": {},
     "output_type": "execute_result"
    }
   ],
   "source": [
    "%%time\n",
    "secant_method(func_x, 0, 0.2)"
   ]
  },
  {
   "cell_type": "code",
   "execution_count": 56,
   "metadata": {},
   "outputs": [
    {
     "name": "stdout",
     "output_type": "stream",
     "text": [
      "CPU times: user 11 µs, sys: 0 ns, total: 11 µs\n",
      "Wall time: 12.4 µs\n"
     ]
    },
    {
     "data": {
      "text/plain": [
       "(0.4863890252475381, 8)"
      ]
     },
     "execution_count": 56,
     "metadata": {},
     "output_type": "execute_result"
    }
   ],
   "source": [
    "%%time\n",
    "Newton_Raphson(func_x, 0.2)"
   ]
  },
  {
   "cell_type": "markdown",
   "metadata": {},
   "source": [
    "# Week 3"
   ]
  },
  {
   "cell_type": "markdown",
   "metadata": {},
   "source": [
    "## bruteforce or scipy.optimize"
   ]
  },
  {
   "cell_type": "code",
   "execution_count": 57,
   "metadata": {},
   "outputs": [],
   "source": [
    "import numpy as np\n",
    "import scipy.optimize as opt\n",
    "from scipy.optimize import minimize\n"
   ]
  },
  {
   "cell_type": "code",
   "execution_count": 58,
   "metadata": {},
   "outputs": [],
   "source": [
    "def f(x):\n",
    "    return x**6 - x**5 + x**4 - 7*x**3 + x**2 + x -5"
   ]
  },
  {
   "cell_type": "code",
   "execution_count": 59,
   "metadata": {},
   "outputs": [
    {
     "data": {
      "image/png": "[encoded data removed]",
      "text/plain": [
       "<Figure size 640x480 with 1 Axes>"
      ]
     },
     "metadata": {},
     "output_type": "display_data"
    }
   ],
   "source": [
    "def matplotlib_display():\n",
    "    import matplotlib.pyplot as plt \n",
    "    x = np.linspace(-2, 2, 100)\n",
    "    plt.plot(x, f(x))\n",
    "    plt.show()\n",
    "matplotlib_display()"
   ]
  },
  {
   "cell_type": "code",
   "execution_count": 60,
   "metadata": {},
   "outputs": [
    {
     "name": "stdout",
     "output_type": "stream",
     "text": [
      "Optimization terminated successfully.\n",
      "         Current function value: -5.105749\n",
      "         Iterations: 5\n",
      "         Function evaluations: 14\n",
      "         Gradient evaluations: 7\n",
      "  message: Optimization terminated successfully.\n",
      "  success: True\n",
      "   status: 0\n",
      "      fun: -5.105749483553248\n",
      "        x: [-1.729e-01]\n",
      "      nit: 5\n",
      "      jac: [-5.960e-08]\n",
      " hess_inv: [[ 1.024e-01]]\n",
      "     nfev: 14\n",
      "     njev: 7\n"
     ]
    }
   ],
   "source": [
    "minfx = minimize(f, 0, method='BFGS', options={'disp': True})\n",
    "minimizescalar = opt.minimize_scalar(f, method='brent')\n",
    "print(minfx)\n"
   ]
  },
  {
   "cell_type": "code",
   "execution_count": 61,
   "metadata": {},
   "outputs": [
    {
     "name": "stdout",
     "output_type": "stream",
     "text": [
      "\n",
      "    Newton-Raphson: \n",
      "          converged: True\n",
      "           flag: converged\n",
      " function_calls: 14\n",
      "     iterations: 7\n",
      "           root: 1.6351292084233693\n",
      "    \n",
      "CPU times: user 1.43 ms, sys: 0 ns, total: 1.43 ms\n",
      "Wall time: 1.38 ms\n"
     ]
    }
   ],
   "source": [
    "%%time\n",
    "def df(x):\n",
    "    return 6*x**5 - 5*x**4 + 4*x**3 - 21*x**2 + 2*x + 1\n",
    "    \n",
    "minfx = opt.root_scalar(df, method='newton', x0=1.4)\n",
    "print(f\"\"\"\n",
    "    Newton-Raphson: \n",
    "    {minfx}\n",
    "    \"\"\")"
   ]
  },
  {
   "cell_type": "code",
   "execution_count": 62,
   "metadata": {},
   "outputs": [],
   "source": [
    "def get_derivative_f(x, func, tol=1e-6):\n",
    "    return (func(x + tol) - func(x-tol)) / (2*tol)"
   ]
  },
  {
   "cell_type": "code",
   "execution_count": 63,
   "metadata": {},
   "outputs": [
    {
     "name": "stdout",
     "output_type": "stream",
     "text": [
      "CPU times: user 547 µs, sys: 41 µs, total: 588 µs\n",
      "Wall time: 379 µs\n"
     ]
    },
    {
     "data": {
      "text/plain": [
       "{'min': {'x': 1.631631631631631, 'y': -16.720848456833032},\n",
       " 'max': {'x': -10.0, 'y': 1117085.0}}"
      ]
     },
     "execution_count": 63,
     "metadata": {},
     "output_type": "execute_result"
    }
   ],
   "source": [
    "%%time\n",
    "def BruteForce(func, range, steps, tol=1e-6):\n",
    "    x = np.linspace(range[0], range[1], steps)\n",
    "    y = func(x)\n",
    "    min_index = np.argmin(y)\n",
    "    max_index = np.argmax(y)\n",
    "    x_min = x[min_index]\n",
    "    x_max = x[max_index]\n",
    "    return {\n",
    "        'min': {\n",
    "            'x': x_min,\n",
    "            'y': y[min_index]\n",
    "        },\n",
    "        'max': {\n",
    "            'x': x_max,\n",
    "            'y': y[max_index]\n",
    "        }\n",
    "    }\n",
    "\n",
    "BruteForce(f, [-10,10], 1000)"
   ]
  },
  {
   "cell_type": "markdown",
   "metadata": {},
   "source": [
    "## x = [x1,x2]\n",
    "\n",
    "$$\n",
    "x \\in \\left[ 0, 1 \\right]^2\n",
    "$$"
   ]
  },
  {
   "cell_type": "code",
   "execution_count": 64,
   "metadata": {},
   "outputs": [
    {
     "name": "stdout",
     "output_type": "stream",
     "text": [
      "[[0.05092033 0.37078771]\n",
      " [0.11534957 0.70131252]]\n",
      "[[0.90822185]\n",
      " [0.50304592]]\n",
      "[[0.19063603]]\n"
     ]
    }
   ],
   "source": [
    "A = np.random.rand(2,2)\n",
    "C = np.random.rand(2,1)\n",
    "D = np.random.rand(1,1)\n",
    "print(A)\n",
    "print(C)\n",
    "print(D)\n",
    "X = np.random.rand(2,1)"
   ]
  },
  {
   "cell_type": "code",
   "execution_count": 65,
   "metadata": {},
   "outputs": [
    {
     "data": {
      "text/plain": [
       "(1, 1)"
      ]
     },
     "execution_count": 65,
     "metadata": {},
     "output_type": "execute_result"
    }
   ],
   "source": [
    "def f(x):\n",
    "    return x.T @ A @ x + C.T @ x + D\n",
    "\n",
    "def test():\n",
    "    x=np.random.rand(2,1)\n",
    "    return x, f(x)\n",
    "\n",
    "def df(x, tol=1e-6):\n",
    "    return ((f(x + tol) - f(x-tol)) / (2*tol))\n",
    "df(X).shape"
   ]
  },
  {
   "cell_type": "code",
   "execution_count": 66,
   "metadata": {},
   "outputs": [
    {
     "name": "stderr",
     "output_type": "stream",
     "text": [
      "/tmp/ipykernel_52506/432769170.py:2: DeprecationWarning: scipy.misc.derivative is deprecated in SciPy v1.10.0; and will be completely removed in SciPy v1.12.0. You may consider using findiff: https://github.com/maroba/findiff or numdifftools: https://github.com/pbrod/numdifftools\n",
      "  misc.derivative(f, X)\n"
     ]
    },
    {
     "data": {
      "text/plain": [
       "array([[2.84449344]])"
      ]
     },
     "execution_count": 66,
     "metadata": {},
     "output_type": "execute_result"
    }
   ],
   "source": [
    "import scipy.misc as misc\n",
    "misc.derivative(f, X)"
   ]
  },
  {
   "cell_type": "code",
   "execution_count": 67,
   "metadata": {},
   "outputs": [
    {
     "name": "stdout",
     "output_type": "stream",
     "text": [
      "         Current function value: -1450916.077868\n",
      "         Iterations: 4\n",
      "         Function evaluations: 360\n",
      "         Gradient evaluations: 116\n"
     ]
    },
    {
     "name": "stderr",
     "output_type": "stream",
     "text": [
      "/home/lap05/anaconda3/lib/python3.11/site-packages/scipy/optimize/_minimize.py:705: OptimizeWarning: Desired error not necessarily achieved due to precision loss.\n",
      "  res = _minimize_bfgs(fun, x0, args, jac, callback, **options)\n"
     ]
    }
   ],
   "source": [
    "minfx = opt.minimize(f, X.reshape(-1), method='BFGS', options={'disp': True})"
   ]
  },
  {
   "cell_type": "markdown",
   "metadata": {},
   "source": [
    "# Week4"
   ]
  },
  {
   "cell_type": "markdown",
   "metadata": {},
   "source": [
    "## find f'"
   ]
  },
  {
   "cell_type": "code",
   "execution_count": 68,
   "metadata": {},
   "outputs": [
    {
     "data": {
      "text/plain": [
       "6"
      ]
     },
     "execution_count": 68,
     "metadata": {},
     "output_type": "execute_result"
    }
   ],
   "source": [
    "n = np.random.randint(1, 10)\n",
    "n\n"
   ]
  },
  {
   "cell_type": "code",
   "execution_count": 69,
   "metadata": {},
   "outputs": [
    {
     "data": {
      "text/plain": [
       "array([0.2618653 , 0.35391728, 0.82142443, 0.36092213, 0.66290166,\n",
       "       0.97340784])"
      ]
     },
     "execution_count": 69,
     "metadata": {},
     "output_type": "execute_result"
    }
   ],
   "source": [
    "params = np.random.rand(n)\n",
    "params"
   ]
  },
  {
   "cell_type": "code",
   "execution_count": 70,
   "metadata": {},
   "outputs": [
    {
     "data": {
      "text/plain": [
       "array([[3, 5],\n",
       "       [2, 5],\n",
       "       [4, 0],\n",
       "       [6, 4],\n",
       "       [8, 9],\n",
       "       [8, 9]])"
      ]
     },
     "execution_count": 70,
     "metadata": {},
     "output_type": "execute_result"
    }
   ],
   "source": [
    "coordinates = []\n",
    "for i in range(n):\n",
    "    x = np.random.randint(0,10) \n",
    "    y = np.random.randint(0,10)\n",
    "    coordinates.append((x,y))\n",
    "coordinates = np.array(coordinates)\n",
    "coordinates"
   ]
  },
  {
   "cell_type": "code",
   "execution_count": 71,
   "metadata": {},
   "outputs": [
    {
     "name": "stdout",
     "output_type": "stream",
     "text": [
      "[  0.26381842 -15.02108367  20.76070409  -8.35830181   1.29953804\n",
      "  -0.06845818]\n"
     ]
    },
    {
     "name": "stderr",
     "output_type": "stream",
     "text": [
      "/home/lap05/anaconda3/lib/python3.11/site-packages/scipy/optimize/_minpack_py.py:1010: OptimizeWarning: Covariance of the parameters could not be estimated\n",
      "  warnings.warn('Covariance of the parameters could not be estimated',\n"
     ]
    },
    {
     "data": {
      "image/png": "[encoded data removed]",
      "text/plain": [
       "<Figure size 640x480 with 1 Axes>"
      ]
     },
     "metadata": {},
     "output_type": "display_data"
    }
   ],
   "source": [
    "from scipy.optimize import curve_fit\n",
    "import matplotlib.pyplot as plt\n",
    "\n",
    "x = coordinates[:, 0]\n",
    "y = coordinates[:, 1]\n",
    "\n",
    "def target_function(x, *params):\n",
    "    # result_f = 0\n",
    "    # for i in range(len(params)):\n",
    "    #     result_f += params[i] * x**i\n",
    "    return sum([params[i] * x**i for i in range(len(params))])\n",
    "\n",
    "fit_params, pcov = curve_fit(target_function, x, y, p0=params.tolist())\n",
    "print(fit_params)\n",
    "\n",
    "x_new = np.linspace(min(x), max(x), 100)\n",
    "\n",
    "y_new = target_function(x_new, *fit_params)    # Create an coordinate\n",
    "\n",
    "\n",
    "plt.scatter(x, y)\n",
    "plt.plot(x_new, y_new, label='f(x)', color='red')\n",
    "plt.legend()\n",
    "plt.xlabel('X')\n",
    "plt.ylabel('Y')\n",
    "plt.show()"
   ]
  },
  {
   "cell_type": "code",
   "execution_count": 72,
   "metadata": {},
   "outputs": [],
   "source": [
    "def df(x, tol = 1e-6):\n",
    "    return ((target_function((x + tol), *fit_params) - target_function((x-tol), *fit_params)) / (2*tol))"
   ]
  },
  {
   "cell_type": "code",
   "execution_count": 73,
   "metadata": {},
   "outputs": [
    {
     "data": {
      "text/plain": [
       "6.281280365838526"
      ]
     },
     "execution_count": 73,
     "metadata": {},
     "output_type": "execute_result"
    }
   ],
   "source": [
    "df(1)"
   ]
  },
  {
   "cell_type": "markdown",
   "metadata": {},
   "source": [
    "## Homework"
   ]
  },
  {
   "cell_type": "markdown",
   "metadata": {},
   "source": [
    "ktra co phai toi uu loi khong (Check is convex)\n",
    "sd phuong phap roi rac hoa de giai\n",
    "$$\n",
    "    f_i(x_i) = x_i.\\log_2{(1+\\frac{a_i}{x_i})} + \\frac{1}{r_i}.\\log_2{(1 + b_i.x_i)}\n",
    "$$"
   ]
  },
  {
   "cell_type": "code",
   "execution_count": 74,
   "metadata": {},
   "outputs": [
    {
     "data": {
      "text/plain": [
       "0.7631060313566813"
      ]
     },
     "execution_count": 74,
     "metadata": {},
     "output_type": "execute_result"
    }
   ],
   "source": [
    "import numpy as np\n",
    "from scipy.optimize import minimize\n",
    "\n",
    "def f(x, a, r, b):\n",
    "    return x*np.log2(a/x) + (1/r)*np.log2(1 + b*x)\n",
    "\n",
    "def df(x, a, r, b, tol=1e-6):\n",
    "    return ((f(x + tol, a, r, b) - f(x-tol, a, r, b)) / (2*tol))\n",
    "\n",
    "def df2(x, a, r, b, tol=1e-6):\n",
    "    return ((df(x + tol, a, r, b) - df(x-tol, a, r, b)) / (2*tol))\n",
    "\n",
    "def neg_f(x, a, r, b):\n",
    "    return -f(x, a, r, b)\n",
    "\n",
    "def is_convex(x, a, r, b):\n",
    "    if df2(x, a, r, b) < 0:\n",
    "        return \"concave\"\n",
    "    elif df2(x, a, r, b) <= 0 and df(x, a, r, b) >= 0:\n",
    "        return \"undetermined\"\n",
    "    else:\n",
    "        return \"convex\"\n",
    "    \n",
    "a = np.random.rand()\n",
    "r = np.random.rand()\n",
    "b = np.random.rand()\n",
    "\n",
    "x0 = np.random.rand()\n",
    "x0\n"
   ]
  },
  {
   "cell_type": "code",
   "execution_count": 75,
   "metadata": {},
   "outputs": [
    {
     "data": {
      "image/png": "[encoded data removed]",
      "text/plain": [
       "<Figure size 640x480 with 1 Axes>"
      ]
     },
     "metadata": {},
     "output_type": "display_data"
    }
   ],
   "source": [
    "def visualize():\n",
    "    import matplotlib.pyplot as plt\n",
    "    x = np.linspace(0.1, 10, 100)\n",
    "    plt.plot(x, f(x, a, r, b))\n",
    "    plt.plot(x, df(x, a, r, b))\n",
    "    plt.plot(x, df2(x, a, r, b))\n",
    "    plt.show()\n",
    "visualize()"
   ]
  },
  {
   "cell_type": "code",
   "execution_count": 76,
   "metadata": {},
   "outputs": [
    {
     "name": "stdout",
     "output_type": "stream",
     "text": [
      "Optimization terminated successfully.\n",
      "         Current function value: -3.575322\n",
      "         Iterations: 4\n",
      "         Function evaluations: 10\n",
      "         Gradient evaluations: 5\n"
     ]
    },
    {
     "data": {
      "text/plain": [
       "  message: Optimization terminated successfully.\n",
       "  success: True\n",
       "   status: 0\n",
       "      fun: -3.5753215913078114\n",
       "        x: [ 1.712e+00]\n",
       "      nit: 4\n",
       "      jac: [ 1.669e-06]\n",
       " hess_inv: [[ 7.263e-01]]\n",
       "     nfev: 10\n",
       "     njev: 5"
      ]
     },
     "execution_count": 76,
     "metadata": {},
     "output_type": "execute_result"
    }
   ],
   "source": [
    "minfx = minimize(neg_f, x0, args=(a, r, b), method='BFGS', options={'disp': True})\n",
    "minfx"
   ]
  },
  {
   "cell_type": "code",
   "execution_count": null,
   "metadata": {},
   "outputs": [],
   "source": []
  }
 ],
 "metadata": {
  "kernelspec": {
   "display_name": "base",
   "language": "python",
   "name": "python3"
  },
  "language_info": {
   "codemirror_mode": {
    "name": "ipython",
    "version": 3
   },
   "file_extension": ".py",
   "mimetype": "text/x-python",
   "name": "python",
   "nbconvert_exporter": "python",
   "pygments_lexer": "ipython3",
   "version": "3.11.5"
  }
 },
 "nbformat": 4,
 "nbformat_minor": 2
}
