{
 "cells": [
  {
   "cell_type": "code",
   "execution_count": 1,
   "metadata": {},
   "outputs": [],
   "source": [
    "import numpy as np\n",
    "import scipy\n",
    "import math"
   ]
  },
  {
   "cell_type": "code",
   "execution_count": 2,
   "metadata": {},
   "outputs": [],
   "source": [
    "def random_params():\n",
    "    return {\n",
    "        'a': np.random.uniform(0, 1),\n",
    "        'b': np.random.uniform(0, 1),\n",
    "        'r': np.random.uniform(0, 1),\n",
    "    }"
   ]
  },
  {
   "cell_type": "code",
   "execution_count": 3,
   "metadata": {},
   "outputs": [],
   "source": [
    "def f(x, params):\n",
    "    return  x * np.log( 1 + params['a']/ x ) + 1 / params['r'] * np.log( 1 + params['b'] * x )"
   ]
  },
  {
   "cell_type": "code",
   "execution_count": 4,
   "metadata": {},
   "outputs": [
    {
     "name": "stdout",
     "output_type": "stream",
     "text": [
      "{'a': 0.9494742324362261, 'b': 0.6685633077377735, 'r': 0.7227403455317668}\n",
      "{'a': 0.1367742459011866, 'b': 0.8957397001086203, 'r': 0.26823546232406603}\n"
     ]
    }
   ],
   "source": [
    "params1 = random_params()\n",
    "params2 = random_params()\n",
    "\n",
    "print(params1)\n",
    "print(params2)"
   ]
  },
  {
   "cell_type": "code",
   "execution_count": 5,
   "metadata": {},
   "outputs": [
    {
     "name": "stdout",
     "output_type": "stream",
     "text": [
      "{'a': 0.9494742324362261, 'b': 0.6685633077377735, 'r': 0.7227403455317668}\n",
      "{'a': 0.1367742459011866, 'b': 0.8957397001086203, 'r': 0.26823546232406603}\n"
     ]
    }
   ],
   "source": [
    "print(params1)\n",
    "print(params2)"
   ]
  },
  {
   "cell_type": "code",
   "execution_count": 6,
   "metadata": {},
   "outputs": [],
   "source": [
    "# find optimal x(x1, x2) to minimize f(x1) + f(x2) subject to x1 + x2 <= 1\n",
    "\n",
    "def sum(x):\n",
    "    return f(x[0], params1) + f(x[1], params2)\n",
    "\n",
    "\n",
    "def constraint(x):\n",
    "    return 2 - x[0] - x[1]\n",
    "\n",
    "\n",
    "starting_point = [0.1, 0.2]\n",
    "\n",
    "cons = [{'type': 'ineq', 'fun': constraint},\n",
    "        {'type': 'ineq', 'fun': lambda x: x[0]},\n",
    "        {'type': 'ineq', 'fun': lambda x: x[1]},\n",
    "        # ({'type': 'ineq', 'fun': lambda x: 1 - 2 * x[0] - 1* x[1]}),\n",
    "        # ({'type': 'ineq', 'fun': lambda x: 1 - x[1]}) \n",
    "        ]\n",
    "\n",
    "res = scipy.optimize.minimize(\n",
    "    sum, starting_point, constraints=cons, bounds=[(0.1, 1), (0.1, 1)], method='SLSQP')"
   ]
  },
  {
   "cell_type": "code",
   "execution_count": 7,
   "metadata": {},
   "outputs": [
    {
     "data": {
      "text/plain": [
       " message: Optimization terminated successfully\n",
       " success: True\n",
       "  status: 0\n",
       "     fun: 0.7306429886140535\n",
       "       x: [ 1.000e-01  1.000e-01]\n",
       "     nit: 2\n",
       "     jac: [ 2.313e+00  3.349e+00]\n",
       "    nfev: 6\n",
       "    njev: 2"
      ]
     },
     "execution_count": 7,
     "metadata": {},
     "output_type": "execute_result"
    }
   ],
   "source": [
    "res"
   ]
  },
  {
   "cell_type": "code",
   "execution_count": 8,
   "metadata": {},
   "outputs": [
    {
     "data": {
      "text/plain": [
       "5.910976887947747"
      ]
     },
     "execution_count": 8,
     "metadata": {},
     "output_type": "execute_result"
    }
   ],
   "source": [
    "sum([2., 2.])"
   ]
  },
  {
   "cell_type": "code",
   "execution_count": 9,
   "metadata": {},
   "outputs": [],
   "source": [
    "a = np.array([1, 2, 3])\n",
    "\n",
    "A = np.array([[1, 2, 3], [4, 5, 6]])\n",
    "B = np.array([10, 20, 30])"
   ]
  },
  {
   "cell_type": "code",
   "execution_count": 10,
   "metadata": {},
   "outputs": [],
   "source": [
    "def main(unit_func, A, b, initial_x):\n",
    "    def objective_func(x):\n",
    "        sum = 0\n",
    "        for xi in x:\n",
    "            params = random_params()\n",
    "            unit = f(xi, params=params)\n",
    "            sum += unit\n",
    "        return sum\n",
    "\n",
    "    def get_constraint():\n",
    "        return {'type': 'ineq', 'fun': lambda x: np.sum(x) - 1}\n"
   ]
  },
  {
   "cell_type": "code",
   "execution_count": 11,
   "metadata": {},
   "outputs": [],
   "source": [
    "from scipy.optimize import linprog\n",
    "from scipy.optimize import minimize\n",
    "from scipy.optimize import Bounds\n",
    "from scipy.optimize import LinearConstraint\n",
    "from scipy.optimize import shgo\n",
    "\n",
    "# Maximize F = sum of f_i(x_i) for i = 1 to N\n",
    "# f_i(x_i) = x_i * log2(1 + a_i/x_i) + 1/r_i * log2(1 + b_i * x_i)\n",
    "# Constraints:\n",
    "#   sum of x_i <= B\n",
    "#   x_i >= 0 for all i\n",
    "class Solution:\n",
    "    def __init__(self, N, B, method = 'trust-constr'):\n",
    "        self.N = N\n",
    "        self.B = B\n",
    "        data = open('./data/input_{}_{}.txt'.format(N, B), 'r').read().splitlines()[1:]\n",
    "        self.a = np.array(list(map(float, data[0].split())))\n",
    "        self.b = np.array(list(map(float, data[1].split())))\n",
    "        self.r = np.array(list(map(float, data[2].split())))\n",
    "\n",
    "        self.objective = lambda x: self.F(x)\n",
    "        self.objective_der = lambda x: self.F_der(x)\n",
    "        self.objective_hess = lambda x: self.F_hess(x)\n",
    "        self.result = None\n",
    "        self.method = method\n",
    "\n",
    "    def F(self, x):\n",
    "        return -np.sum(x * np.log2(1 + self.a / x) + 1 / self.r * np.log2(1 + self.b * x))\n",
    "    \n",
    "    def F_der(self, x):\n",
    "        return -np.log2(1 + self.a/x) + self.a / ((x+self.a)*np.log(2)) + self.b / (self.r * np.log(2) * (1 + self.b * x))\n",
    "    \n",
    "    def F_hess(self, x):\n",
    "        hess = np.zeros((self.N, self.N))\n",
    "        for i in range(self.N):\n",
    "            hess[i, i] = (self.a[i]**2 + self.a[i]*x[i]*(1-np.log(2)))/(x[i]*(x[i]+self.a[i])**2*np.log(2)) + self.b[i]**2 / (self.r[i] * np.log(2) * (1 + self.b[i] * x[i])**2)\n",
    "        return hess\n",
    "\n",
    "    def solve(self, random_start = False):\n",
    "        cons = LinearConstraint(np.ones(self.N), 0, self.B)\n",
    "        bounds = Bounds(np.zeros(self.N), np.inf * np.ones(self.N))\n",
    "        if random_start:\n",
    "            x0 = []\n",
    "            for i in range(self.N):\n",
    "                x0.append(np.random.uniform(0, self.B - np.sum(x0)))\n",
    "            x0 = np.array(x0)\n",
    "        else:\n",
    "            x0 = np.ones(self.N)\n",
    "        self.result = minimize(self.objective, x0, method=self.method, jac=self.objective_der, hess=self.objective_hess, constraints=cons, bounds=bounds)\n",
    "        return self.result\n",
    "    \n",
    "   \n",
    "    \n",
    "\n",
    "    \n",
    "    def print_result(self):\n",
    "        #print('N = {}, B = {}'.format(self.N, self.B))\n",
    "        #print('a = {}'.format(self.a))\n",
    "        #print('b = {}'.format(self.b))\n",
    "        #print('r = {}'.format(self.r))\n",
    "        print('x = {}'.format(self.result.x))\n",
    "        print('sum of x = {:.4f}'.format(np.sum(self.result.x)))\n",
    "        print('Max F = {:.4f}'.format(-self.result.fun))"
   ]
  },
  {
   "cell_type": "code",
   "execution_count": 12,
   "metadata": {},
   "outputs": [],
   "source": [
    "sol = Solution(5, 200)"
   ]
  },
  {
   "cell_type": "code",
   "execution_count": 13,
   "metadata": {},
   "outputs": [
    {
     "data": {
      "text/plain": [
       "           message: `xtol` termination condition is satisfied.\n",
       "           success: True\n",
       "            status: 2\n",
       "               fun: -25.146425296326463\n",
       "                 x: [ 4.196e+00  7.710e+00  5.937e-03  1.842e+02  1.270e+00]\n",
       "               nit: 122\n",
       "              nfev: 197\n",
       "              njev: 35\n",
       "              nhev: 35\n",
       "          cg_niter: 242\n",
       "      cg_stop_cond: 2\n",
       "              grad: [ 9.719e-05  7.655e-05  1.479e-01 -8.971e-04  3.387e-03]\n",
       "   lagrangian_grad: [-3.204e-05 -5.360e-05  5.207e-06 -1.028e-03  2.010e-03]\n",
       "            constr: [array([ 1.974e+02]), array([ 4.196e+00,  7.710e+00,  5.937e-03,  1.842e+02,\n",
       "                            1.270e+00])]\n",
       "               jac: [array([[ 1.000e+00,  1.000e+00,  1.000e+00,\n",
       "                             1.000e+00,  1.000e+00]]), array([[ 1.000e+00,  0.000e+00, ...,  0.000e+00,\n",
       "                             0.000e+00],\n",
       "                           [ 0.000e+00,  1.000e+00, ...,  0.000e+00,\n",
       "                             0.000e+00],\n",
       "                           ...,\n",
       "                           [ 0.000e+00,  0.000e+00, ...,  1.000e+00,\n",
       "                             0.000e+00],\n",
       "                           [ 0.000e+00,  0.000e+00, ...,  0.000e+00,\n",
       "                             1.000e+00]])]\n",
       "       constr_nfev: [0, 0]\n",
       "       constr_njev: [0, 0]\n",
       "       constr_nhev: [0, 0]\n",
       "                 v: [array([-1.311e-04]), array([ 1.819e-06,  9.016e-07, -1.477e-01,  3.029e-08,\n",
       "                           -1.246e-03])]\n",
       "            method: tr_interior_point\n",
       "        optimality: 0.0020102656311977753\n",
       "  constr_violation: 0.0\n",
       "    execution_time: 0.3765277862548828\n",
       "         tr_radius: 5.0000000000000026e-09\n",
       "    constr_penalty: 1.0\n",
       " barrier_parameter: 2.048000000000001e-09\n",
       " barrier_tolerance: 2.048000000000001e-09\n",
       "             niter: 122"
      ]
     },
     "execution_count": 13,
     "metadata": {},
     "output_type": "execute_result"
    }
   ],
   "source": [
    "sol.solve()"
   ]
  },
  {
   "cell_type": "code",
   "execution_count": 14,
   "metadata": {},
   "outputs": [
    {
     "name": "stdout",
     "output_type": "stream",
     "text": [
      "x = [4.19599687e+00 7.70963725e+00 5.93707800e-03 1.84194838e+02\n",
      " 1.27023434e+00]\n",
      "sum of x = 197.3766\n",
      "Max F = 25.1464\n"
     ]
    }
   ],
   "source": [
    "sol.print_result()"
   ]
  },
  {
   "cell_type": "markdown",
   "metadata": {},
   "source": [
    "# Trong Linear Progamming, n an m rang buoc thi so dinh toi da can duyet la C(m,n) "
   ]
  },
  {
   "cell_type": "code",
   "execution_count": null,
   "metadata": {},
   "outputs": [],
   "source": []
  }
 ],
 "metadata": {
  "kernelspec": {
   "display_name": "Python 3",
   "language": "python",
   "name": "python3"
  },
  "language_info": {
   "codemirror_mode": {
    "name": "ipython",
    "version": 3
   },
   "file_extension": ".py",
   "mimetype": "text/x-python",
   "name": "python",
   "nbconvert_exporter": "python",
   "pygments_lexer": "ipython3",
   "version": "3.11.5"
  }
 },
 "nbformat": 4,
 "nbformat_minor": 2
}
