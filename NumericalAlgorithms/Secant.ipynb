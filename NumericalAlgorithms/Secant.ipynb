{
 "cells": [
  {
   "cell_type": "markdown",
   "metadata": {},
   "source": [
    "# Brent's method \n",
    "\n",
    "is a hybrid root finding algorithm combine aspect of - bisect and secant\n",
    "\n",
    "## Advantages\n",
    "- take advantages of bisect, secant, inverse quadratic interpolation methods\n",
    "- suitavle for non-smooth func\n",
    "- fast convegence\n",
    "\n",
    "## Disavantages\n",
    "- slower than newton raphson's methodin some cases\n",
    "- more computational steps\n"
   ]
  },
  {
   "cell_type": "markdown",
   "metadata": {},
   "source": [
    "# Recurrence formula\n",
    "\n",
    "$$\n",
    "x_n = \\frac{x_{n-2} * f(x_{n-1}) - x_{n-1} * f(x_{n-2})}{f(x_{n-1}) - f(x_{n-2})}\n",
    "$$\n",
    "\n",
    "=> Methods converges suplinearly with \n",
    "$$\n",
    "q =  \\frac{(1 + \\sqrt{5} )}{2} = 1.618\n",
    "$$\n",
    "\n",
    "## Advantages\n",
    "- Faster than biection\n",
    "- Easy to implement\n",
    "- No need to use derivatives\n",
    "## Disadvandtages\n",
    "- Does not always converge"
   ]
  },
  {
   "cell_type": "code",
   "execution_count": null,
   "metadata": {},
   "outputs": [],
   "source": []
  }
 ],
 "metadata": {
  "language_info": {
   "name": "python"
  }
 },
 "nbformat": 4,
 "nbformat_minor": 2
}
