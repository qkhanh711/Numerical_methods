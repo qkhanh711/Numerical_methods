{
 "cells": [
  {
   "cell_type": "code",
   "execution_count": 8,
   "metadata": {},
   "outputs": [
    {
     "data": {
      "text/plain": [
       "-1.0"
      ]
     },
     "execution_count": 8,
     "metadata": {},
     "output_type": "execute_result"
    }
   ],
   "source": [
    "def func_x(x):\n",
    "    return x**2 + 2*x + 1\n",
    "\n",
    "def bisection(a, b, func_x):\n",
    "    c = (a + b) / 2\n",
    "    if func_x(c) == 0:\n",
    "        return c\n",
    "    elif func_x(a) * func_x(b) > 0:\n",
    "        return bisection(a, c, func_x)\n",
    "    elif func_x(a) * func_x(b) < 0:\n",
    "        return bisection(c, b, func_x)\n",
    "    else:\n",
    "        return \"No root in (a, b)\"\n",
    "\n",
    "bisection(-2, 2, func_x)"
   ]
  }
 ],
 "metadata": {
  "kernelspec": {
   "display_name": "base",
   "language": "python",
   "name": "python3"
  },
  "language_info": {
   "codemirror_mode": {
    "name": "ipython",
    "version": 3
   },
   "file_extension": ".py",
   "mimetype": "text/x-python",
   "name": "python",
   "nbconvert_exporter": "python",
   "pygments_lexer": "ipython3",
   "version": "3.11.5"
  }
 },
 "nbformat": 4,
 "nbformat_minor": 2
}
